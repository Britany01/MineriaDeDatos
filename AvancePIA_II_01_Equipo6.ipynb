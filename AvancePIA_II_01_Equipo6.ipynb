{
  "nbformat": 4,
  "nbformat_minor": 0,
  "metadata": {
    "colab": {
      "name": "AvancePIA_II_01_Equipo6",
      "provenance": [],
      "collapsed_sections": [],
      "include_colab_link": true
    },
    "kernelspec": {
      "name": "python3",
      "display_name": "Python 3"
    },
    "language_info": {
      "name": "python"
    }
  },
  "cells": [
    {
      "cell_type": "markdown",
      "metadata": {
        "id": "view-in-github",
        "colab_type": "text"
      },
      "source": [
        "<a href=\"https://colab.research.google.com/github/Britany01/MineriaDeDatos/blob/main/AvancePIA_II_01_Equipo6.ipynb\" target=\"_parent\"><img src=\"https://colab.research.google.com/assets/colab-badge.svg\" alt=\"Open In Colab\"/></a>"
      ]
    },
    {
      "cell_type": "markdown",
      "metadata": {
        "id": "msEYQ2Lwpm4_"
      },
      "source": [
        "# **Segundo avance PIA**\n",
        "\n",
        "**Equipo** **6**; gpo: 01, *lunes*. \n",
        "\n",
        "Integrantes:\n",
        "\n",
        "* 1794593 Gutiérrez Herrera Luisa Fernanda.\n",
        "* 1796551 Sánchez Bracho Joss Alberth\n",
        "* 1847156 Montemayor Guerra Diego Marcelo\n",
        "* 1852645 Ovalle Salas Britany\n",
        "* 1861240 Ávila Rodríguez Delfino Azael\n",
        "\n"
      ]
    },
    {
      "cell_type": "markdown",
      "metadata": {
        "id": "tpfxyAN6oNk2"
      },
      "source": [
        "**1.   Título de la base de datos principal.**\n",
        "\n",
        "> **a)** Nombre con el que se encuentra en la página encontrada: *Video Game Sales.*\n",
        "\n",
        "> **b)** Url de la página: *https://www.kaggle.com/gregorut/videogamesales*"
      ]
    },
    {
      "cell_type": "markdown",
      "metadata": {
        "id": "GhEnyL5MqLJD"
      },
      "source": [
        "**2. Introducción general:** \n",
        "\n",
        "\n",
        "> **a)** Realizar una descripción sobre el tema en donde se desarrolla su base de datos:\n",
        "\n",
        "\n",
        "\n",
        ">La industria de videojuegos ha experimentado en los últimos años altas tasas de crecimiento, esto debido al desarrollo que ha tenido la computación respecto a la capacidad de procesamiento y a la inclusión de imágenes más reales.\n",
        "\n",
        ">En esta base de datos encontraremos el ranking de los videojuegos más vendidos al 2016, superando cada uno las 100,000 copias vendidas, también podremos encontrar los ingresos en MDD que éstos generaron por individual en Norte América, Europa y Japón, entre otras cualidades como: el año de lanzamiento, genéro, plataforma de lanzamiento, etc.\n",
        "\n",
        ">Actualmente el mercado de los videojuegos es considerado uno de los más rentables, generando al año miles de millones de dolares a nivel mundial, Norteamérica es considerada como la segunda gran potencia mundial en este sector, con una facturación de 39.600 millones de dólares copando el 26,1% de la facturación mundial total con unos datos de producción récord aupados.\n",
        "\n",
        ">Consideramos que conocer y definir un mercado es el paso primordial antes de lanzar un nuevo producto, no obstante, realizar este tipo de estudio podría demorar mucho tiempo y dinero, si se quisiera realizar un estudio de mercadeo para la 2da gran potencia mundial podría resultar muy costoso, esto por la cantidad de consumidores con los que cuenta esta sección, por lo que consideramos que contar con esta base de datos podría ser muy eficaz si queremos conocer las preferencias de nuestro mercado y saber qué tipo de factores han sido clave para obtener mayor cantidad de ventas. \n",
        "\n",
        "\n",
        "\n"
      ]
    },
    {
      "cell_type": "markdown",
      "metadata": {
        "id": "n9lagfL-5ijB"
      },
      "source": [
        "**3. Descripción de los datos:**\n",
        "\n",
        "\n",
        "> **a)** Que tipos de datos son (tablas, imágenes, encuestas, etc.)\n",
        "\n",
        ">>Los datos de esta base consisten en una tabla (dataframe) con 16,597 registros con 11 categorias cada uno.\n",
        "\n",
        "> **b)** Descripcion de las columnas. (Que datos se describen en cada columna. Mediciones, tiempo, texto largo, etc.)\n",
        "\n",
        ">>La base de datos tiene 11 columnas, que consisten en los siguiente:\n",
        "\n",
        ">- **Rank**: Los datos que describe esta columna son los lugares en un ranking de ventas totales que tienen cada viedojuego, ordenados de mayor a menor.\n",
        "\n",
        ">- **Name**: Los datos que describe esta columna son textos largos con el nombre de los videojuegos.\n",
        "\n",
        ">- **Platform**: Los datos que describe esta columna son textos cortos con el nombre de las plataformas en las que esta cada videojuego.\n",
        "\n",
        ">- **Year**: Los datos que describe esta columna son tiempos con el año de lanzamiento de cada videojuego.\n",
        "\n",
        ">- **Genre**: Los datos que describe esta columna son textos cortos con el nombre del genero al que pertenecen los videojuegos.\n",
        "\n",
        ">- **Publisher**: Los datos que describe esta columna son textos largos con el nombre de la empresa que publico el videojuego.\n",
        "\n",
        ">- **NA_Sales**: Los datos que describe esta columna son mediciones de las ventas que tuvo el videojuego en America del Norte (en millones).\n",
        "\n",
        ">- **EUA_Sales**: Los datos que describe esta columna son mediciones de las ventas que tuvo el videojuego en Europa (en millones).\n",
        "\n",
        ">- **JP_Sales**: Los datos que describe esta columna son mediciones de las ventas que tuvo el videojuego en Japon (en millones).\n",
        "\n",
        ">- **Other_Sales**: Los datos que describe esta columna son mediciones de las ventas que tuvo el videojuego en el resto del mundo (en millones).\n",
        "\n",
        ">- **Global_Sales**: Los datos que describe esta columna son mediciones de las ventas que tuvo el videojuego en todo el mundo (en millones)."
      ]
    },
    {
      "cell_type": "markdown",
      "metadata": {
        "id": "ZkzOnQpl5sPT"
      },
      "source": [
        "**4. Justificación del uso de datos:**\n",
        "\n",
        "\n",
        "> **a)** Cuáles fueron las características que les llamó la atención de los datos. Qué les hizo querer trabajar con ellos.\n",
        "\n",
        "\n",
        ">>La base de datos tiene 3 cualidades destacables por la cual fue seleccionada:\n",
        "\n",
        "\n",
        ">>1.   **Abarca más de 16,000 juegos de distintas plataformas:** Desde consolas de videojuegos como Wii, PS3 y XBOX 360 hasta PC.\n",
        "2.   **Contiene información detallada acerca de los juegos:** Género (deportes, acción, plataformas, etc.), el año en que fue lanzado y la compañía que creó el producto.\n",
        "3.   **Las ventas estan seccionadas a los 3 mercados más grandes:** Este incluye nuestro mercado de interés, Norte América.\n",
        "\n",
        "\n",
        "\n",
        "---\n",
        "\n",
        "\n",
        "\n",
        "> **b)** Qué beneficio encuentran de trabajar con estos datos.\n",
        "\n",
        "\n",
        ">>Se puede aprovechar el uso de esta base de datos para responder preguntas como las siguientes:\n",
        "\n",
        "\n",
        ">>*   ¿Cuáles fueron los juegos que más ingresos en ventas obtuvieron en el 2012?\n",
        "*   ¿Qué compañía de videojuegos ha vendido más juegos respecto a las plataformas?\n",
        "\n",
        ">>Esto permite **contestar preguntas acerca de los ingresos que han generado estos productos** y por consiguiente el tema de la base de datos no solo va a ser una actividad recreativa sino que el manejo de la información sea con propósitos pragmáticos.\n",
        "\n"
      ]
    },
    {
      "cell_type": "markdown",
      "metadata": {
        "id": "BauAFYgd6gJi"
      },
      "source": [
        "**5. Mencionar los objetivos**\n",
        "\n",
        "\n",
        "> **a)** Explicar a detalle cual es el objetivo principal (y secundarios en caso de existir) para trabajar con este tipo de datos.\n",
        "\n",
        "\n",
        ">*   Definimos como nuestro objetivo principal el identificar las características de los videojuegos más vendidos en norteamerica para generar un videojuego exitoso, algunas de estas podrían ser: los géneros de videojuegos que más ingresos generaron así como las plataformas y desarrolladoras más populares en nuestro mercado objetivo.\n",
        "\n",
        "\n"
      ]
    },
    {
      "cell_type": "markdown",
      "metadata": {
        "id": "u7nrnu4aLj6_"
      },
      "source": [
        "**6. Mencionar preguntas de interés:**\n",
        "\n",
        "\n",
        "> **a)** Se plantearán al menos dos preguntas de interés referentes a la base de datos. Pueden ser fuera del problema a resolver, y para la segunda entrega del PIA pueden considerarse como objetivos secundarios.\n",
        "\n",
        "\n",
        "* ¿Cuáles son las 5 empresas que mas ventas generaron en Norte América?\n",
        "\n",
        "*   En el caso de un videojuego multiplataforma con buena recaudación de ventas, ¿en cuál plataforma generó una mayor venta?\n"
      ]
    },
    {
      "cell_type": "markdown",
      "metadata": {
        "id": "P7pmCgJQrHnq"
      },
      "source": [
        "**Desarrollo de las herramientas**\n",
        "\n",
        "\n",
        "**1. Limpieza de datos**\n",
        "\n",
        "> **a)** Mostrar los datos sin manipulación."
      ]
    },
    {
      "cell_type": "markdown",
      "metadata": {
        "id": "48gV2k0azjq3"
      },
      "source": [
        "La base de datos original y sin manipular es la que se muestra a continuación:"
      ]
    },
    {
      "cell_type": "code",
      "metadata": {
        "id": "Pq1kStiGrPUP",
        "colab": {
          "base_uri": "https://localhost:8080/",
          "height": 589
        },
        "outputId": "ea83c48b-4ffa-4ad5-ca52-25a9a9aca647"
      },
      "source": [
        "import pandas as pd\n",
        "import numpy as np\n",
        "\n",
        "bd= pd.read_csv(\"vgsales.csv\") #Se lee y asigna la base de datos a la variable bd\n",
        "bd"
      ],
      "execution_count": null,
      "outputs": [
        {
          "output_type": "execute_result",
          "data": {
            "text/html": [
              "<div>\n",
              "<style scoped>\n",
              "    .dataframe tbody tr th:only-of-type {\n",
              "        vertical-align: middle;\n",
              "    }\n",
              "\n",
              "    .dataframe tbody tr th {\n",
              "        vertical-align: top;\n",
              "    }\n",
              "\n",
              "    .dataframe thead th {\n",
              "        text-align: right;\n",
              "    }\n",
              "</style>\n",
              "<table border=\"1\" class=\"dataframe\">\n",
              "  <thead>\n",
              "    <tr style=\"text-align: right;\">\n",
              "      <th></th>\n",
              "      <th>Rank</th>\n",
              "      <th>Name</th>\n",
              "      <th>Platform</th>\n",
              "      <th>Year</th>\n",
              "      <th>Genre</th>\n",
              "      <th>Publisher</th>\n",
              "      <th>NA_Sales</th>\n",
              "      <th>EU_Sales</th>\n",
              "      <th>JP_Sales</th>\n",
              "      <th>Other_Sales</th>\n",
              "      <th>Global_Sales</th>\n",
              "    </tr>\n",
              "  </thead>\n",
              "  <tbody>\n",
              "    <tr>\n",
              "      <th>0</th>\n",
              "      <td>1</td>\n",
              "      <td>Wii Sports</td>\n",
              "      <td>Wii</td>\n",
              "      <td>2006.0</td>\n",
              "      <td>Sports</td>\n",
              "      <td>Nintendo</td>\n",
              "      <td>41.49</td>\n",
              "      <td>29.02</td>\n",
              "      <td>3.77</td>\n",
              "      <td>8.46</td>\n",
              "      <td>82.74</td>\n",
              "    </tr>\n",
              "    <tr>\n",
              "      <th>1</th>\n",
              "      <td>2</td>\n",
              "      <td>Super Mario Bros.</td>\n",
              "      <td>NES</td>\n",
              "      <td>1985.0</td>\n",
              "      <td>Platform</td>\n",
              "      <td>Nintendo</td>\n",
              "      <td>29.08</td>\n",
              "      <td>3.58</td>\n",
              "      <td>6.81</td>\n",
              "      <td>0.77</td>\n",
              "      <td>40.24</td>\n",
              "    </tr>\n",
              "    <tr>\n",
              "      <th>2</th>\n",
              "      <td>3</td>\n",
              "      <td>Mario Kart Wii</td>\n",
              "      <td>Wii</td>\n",
              "      <td>2008.0</td>\n",
              "      <td>Racing</td>\n",
              "      <td>Nintendo</td>\n",
              "      <td>15.85</td>\n",
              "      <td>12.88</td>\n",
              "      <td>3.79</td>\n",
              "      <td>3.31</td>\n",
              "      <td>35.82</td>\n",
              "    </tr>\n",
              "    <tr>\n",
              "      <th>3</th>\n",
              "      <td>4</td>\n",
              "      <td>Wii Sports Resort</td>\n",
              "      <td>Wii</td>\n",
              "      <td>2009.0</td>\n",
              "      <td>Sports</td>\n",
              "      <td>Nintendo</td>\n",
              "      <td>15.75</td>\n",
              "      <td>11.01</td>\n",
              "      <td>3.28</td>\n",
              "      <td>2.96</td>\n",
              "      <td>33.00</td>\n",
              "    </tr>\n",
              "    <tr>\n",
              "      <th>4</th>\n",
              "      <td>5</td>\n",
              "      <td>Pokemon Red/Pokemon Blue</td>\n",
              "      <td>GB</td>\n",
              "      <td>1996.0</td>\n",
              "      <td>Role-Playing</td>\n",
              "      <td>Nintendo</td>\n",
              "      <td>11.27</td>\n",
              "      <td>8.89</td>\n",
              "      <td>10.22</td>\n",
              "      <td>1.00</td>\n",
              "      <td>31.37</td>\n",
              "    </tr>\n",
              "    <tr>\n",
              "      <th>...</th>\n",
              "      <td>...</td>\n",
              "      <td>...</td>\n",
              "      <td>...</td>\n",
              "      <td>...</td>\n",
              "      <td>...</td>\n",
              "      <td>...</td>\n",
              "      <td>...</td>\n",
              "      <td>...</td>\n",
              "      <td>...</td>\n",
              "      <td>...</td>\n",
              "      <td>...</td>\n",
              "    </tr>\n",
              "    <tr>\n",
              "      <th>16593</th>\n",
              "      <td>16596</td>\n",
              "      <td>Woody Woodpecker in Crazy Castle 5</td>\n",
              "      <td>GBA</td>\n",
              "      <td>2002.0</td>\n",
              "      <td>Platform</td>\n",
              "      <td>Kemco</td>\n",
              "      <td>0.01</td>\n",
              "      <td>0.00</td>\n",
              "      <td>0.00</td>\n",
              "      <td>0.00</td>\n",
              "      <td>0.01</td>\n",
              "    </tr>\n",
              "    <tr>\n",
              "      <th>16594</th>\n",
              "      <td>16597</td>\n",
              "      <td>Men in Black II: Alien Escape</td>\n",
              "      <td>GC</td>\n",
              "      <td>2003.0</td>\n",
              "      <td>Shooter</td>\n",
              "      <td>Infogrames</td>\n",
              "      <td>0.01</td>\n",
              "      <td>0.00</td>\n",
              "      <td>0.00</td>\n",
              "      <td>0.00</td>\n",
              "      <td>0.01</td>\n",
              "    </tr>\n",
              "    <tr>\n",
              "      <th>16595</th>\n",
              "      <td>16598</td>\n",
              "      <td>SCORE International Baja 1000: The Official Game</td>\n",
              "      <td>PS2</td>\n",
              "      <td>2008.0</td>\n",
              "      <td>Racing</td>\n",
              "      <td>Activision</td>\n",
              "      <td>0.00</td>\n",
              "      <td>0.00</td>\n",
              "      <td>0.00</td>\n",
              "      <td>0.00</td>\n",
              "      <td>0.01</td>\n",
              "    </tr>\n",
              "    <tr>\n",
              "      <th>16596</th>\n",
              "      <td>16599</td>\n",
              "      <td>Know How 2</td>\n",
              "      <td>DS</td>\n",
              "      <td>2010.0</td>\n",
              "      <td>Puzzle</td>\n",
              "      <td>7G//AMES</td>\n",
              "      <td>0.00</td>\n",
              "      <td>0.01</td>\n",
              "      <td>0.00</td>\n",
              "      <td>0.00</td>\n",
              "      <td>0.01</td>\n",
              "    </tr>\n",
              "    <tr>\n",
              "      <th>16597</th>\n",
              "      <td>16600</td>\n",
              "      <td>Spirits &amp; Spells</td>\n",
              "      <td>GBA</td>\n",
              "      <td>2003.0</td>\n",
              "      <td>Platform</td>\n",
              "      <td>Wanadoo</td>\n",
              "      <td>0.01</td>\n",
              "      <td>0.00</td>\n",
              "      <td>0.00</td>\n",
              "      <td>0.00</td>\n",
              "      <td>0.01</td>\n",
              "    </tr>\n",
              "  </tbody>\n",
              "</table>\n",
              "<p>16598 rows × 11 columns</p>\n",
              "</div>"
            ],
            "text/plain": [
              "        Rank  ... Global_Sales\n",
              "0          1  ...        82.74\n",
              "1          2  ...        40.24\n",
              "2          3  ...        35.82\n",
              "3          4  ...        33.00\n",
              "4          5  ...        31.37\n",
              "...      ...  ...          ...\n",
              "16593  16596  ...         0.01\n",
              "16594  16597  ...         0.01\n",
              "16595  16598  ...         0.01\n",
              "16596  16599  ...         0.01\n",
              "16597  16600  ...         0.01\n",
              "\n",
              "[16598 rows x 11 columns]"
            ]
          },
          "metadata": {},
          "execution_count": 1
        }
      ]
    },
    {
      "cell_type": "markdown",
      "metadata": {
        "id": "tFneO1FatdEF"
      },
      "source": [
        ">>* Descripción básica de columnas.\n"
      ]
    },
    {
      "cell_type": "code",
      "metadata": {
        "id": "SpyktYvktgc2",
        "colab": {
          "base_uri": "https://localhost:8080/"
        },
        "outputId": "e72d9a90-0b04-450f-e98b-ebba86a15479"
      },
      "source": [
        "print(\"El número de columnas es:\",len(bd.columns.values))\n",
        "print(\"El número de filas es:\",len(bd.index),\"\\n\")\n",
        "print(\"Nombre de columna / Tipo de dato\\n\")\n",
        "print(bd.dtypes,\"\\n\")   #Nos indica la columna y el tipo de datos que contiene."
      ],
      "execution_count": null,
      "outputs": [
        {
          "output_type": "stream",
          "name": "stdout",
          "text": [
            "El número de columnas es: 11\n",
            "El número de filas es: 16598 \n",
            "\n",
            "Nombre de columna / Tipo de dato\n",
            "\n",
            "Rank              int64\n",
            "Name             object\n",
            "Platform         object\n",
            "Year            float64\n",
            "Genre            object\n",
            "Publisher        object\n",
            "NA_Sales        float64\n",
            "EU_Sales        float64\n",
            "JP_Sales        float64\n",
            "Other_Sales     float64\n",
            "Global_Sales    float64\n",
            "dtype: object \n",
            "\n"
          ]
        }
      ]
    },
    {
      "cell_type": "markdown",
      "metadata": {
        "id": "izI5U9iFqub5"
      },
      "source": [
        ">>Podemos observar que la mayoría de nuestras columnas cuentan con datos flotantes pero las columnas \"Name\", \"Platform\", \"Genre\" y \"Publisher\" son categóricos y la columna \"Rank\" contiene datos de tipo entero."
      ]
    },
    {
      "cell_type": "markdown",
      "metadata": {
        "id": "2Bjvv3jKle66"
      },
      "source": [
        "> **b)** Eliminar columnas no deseadas.\n",
        "\n",
        "Para eliminar las columnas no deseadas, quisimos enfocarnos solo en las variables que estuvieran correlacionadas con las ventas en Norte America, ya que es nuestro mercado objetivo. Por lo que hicimos uso de un mapa de correlacion."
      ]
    },
    {
      "cell_type": "code",
      "metadata": {
        "colab": {
          "base_uri": "https://localhost:8080/",
          "height": 335
        },
        "id": "DhzBZSc3gxa2",
        "outputId": "15b3492d-b3d7-418e-f45e-12e68835a43a"
      },
      "source": [
        "import matplotlib.pyplot as plt\n",
        "\n",
        "sns.heatmap(bd.corr(),annot= True,linewidths=0.5,fmt = \".1f\")\n",
        "plt.xticks(rotation=90)\n",
        "plt.yticks(rotation=0)\n",
        "plt.title('Mapa de correlación')\n",
        "plt.show()"
      ],
      "execution_count": null,
      "outputs": [
        {
          "output_type": "display_data",
          "data": {
            "image/png": "[encoded data removed]",
            "text/plain": [
              "<Figure size 432x288 with 2 Axes>"
            ]
          },
          "metadata": {
            "needs_background": "light"
          }
        }
      ]
    },
    {
      "cell_type": "markdown",
      "metadata": {
        "id": "e4U0iSO3iI7s"
      },
      "source": [
        "Gracias a este mapa de calor podemos eliminar las variables que no estan correlacionadas a NA_Sales (las ventas en norteamerica), en este caso tendriamos que eliminar EU_Sales, JP_Sales, Other_Sales ya que no ofrecen una correlacion importante con las ventas en norteamerica, y no brindan informacion relevante como es el caso de Year y Rank."
      ]
    },
    {
      "cell_type": "code",
      "metadata": {
        "colab": {
          "base_uri": "https://localhost:8080/",
          "height": 419
        },
        "id": "ob12RE8plh_g",
        "outputId": "49fcd296-f747-44fb-8544-a675e17c1ea0"
      },
      "source": [
        "bdn= bd.drop(['EU_Sales','JP_Sales','Other_Sales'],axis=1) #Se elimina la columna indicada de nuestra bd.\n",
        "bdn #creamos una nueva bd sin las columnas eliminadas."
      ],
      "execution_count": null,
      "outputs": [
        {
          "output_type": "execute_result",
          "data": {
            "text/html": [
              "<div>\n",
              "<style scoped>\n",
              "    .dataframe tbody tr th:only-of-type {\n",
              "        vertical-align: middle;\n",
              "    }\n",
              "\n",
              "    .dataframe tbody tr th {\n",
              "        vertical-align: top;\n",
              "    }\n",
              "\n",
              "    .dataframe thead th {\n",
              "        text-align: right;\n",
              "    }\n",
              "</style>\n",
              "<table border=\"1\" class=\"dataframe\">\n",
              "  <thead>\n",
              "    <tr style=\"text-align: right;\">\n",
              "      <th></th>\n",
              "      <th>Rank</th>\n",
              "      <th>Name</th>\n",
              "      <th>Platform</th>\n",
              "      <th>Year</th>\n",
              "      <th>Genre</th>\n",
              "      <th>Publisher</th>\n",
              "      <th>NA_Sales</th>\n",
              "      <th>Global_Sales</th>\n",
              "    </tr>\n",
              "  </thead>\n",
              "  <tbody>\n",
              "    <tr>\n",
              "      <th>0</th>\n",
              "      <td>1</td>\n",
              "      <td>Wii Sports</td>\n",
              "      <td>Wii</td>\n",
              "      <td>2006.0</td>\n",
              "      <td>Sports</td>\n",
              "      <td>Nintendo</td>\n",
              "      <td>41.49</td>\n",
              "      <td>82.74</td>\n",
              "    </tr>\n",
              "    <tr>\n",
              "      <th>1</th>\n",
              "      <td>2</td>\n",
              "      <td>Super Mario Bros.</td>\n",
              "      <td>NES</td>\n",
              "      <td>1985.0</td>\n",
              "      <td>Platform</td>\n",
              "      <td>Nintendo</td>\n",
              "      <td>29.08</td>\n",
              "      <td>40.24</td>\n",
              "    </tr>\n",
              "    <tr>\n",
              "      <th>2</th>\n",
              "      <td>3</td>\n",
              "      <td>Mario Kart Wii</td>\n",
              "      <td>Wii</td>\n",
              "      <td>2008.0</td>\n",
              "      <td>Racing</td>\n",
              "      <td>Nintendo</td>\n",
              "      <td>15.85</td>\n",
              "      <td>35.82</td>\n",
              "    </tr>\n",
              "    <tr>\n",
              "      <th>3</th>\n",
              "      <td>4</td>\n",
              "      <td>Wii Sports Resort</td>\n",
              "      <td>Wii</td>\n",
              "      <td>2009.0</td>\n",
              "      <td>Sports</td>\n",
              "      <td>Nintendo</td>\n",
              "      <td>15.75</td>\n",
              "      <td>33.00</td>\n",
              "    </tr>\n",
              "    <tr>\n",
              "      <th>4</th>\n",
              "      <td>5</td>\n",
              "      <td>Pokemon Red/Pokemon Blue</td>\n",
              "      <td>GB</td>\n",
              "      <td>1996.0</td>\n",
              "      <td>Role-Playing</td>\n",
              "      <td>Nintendo</td>\n",
              "      <td>11.27</td>\n",
              "      <td>31.37</td>\n",
              "    </tr>\n",
              "    <tr>\n",
              "      <th>...</th>\n",
              "      <td>...</td>\n",
              "      <td>...</td>\n",
              "      <td>...</td>\n",
              "      <td>...</td>\n",
              "      <td>...</td>\n",
              "      <td>...</td>\n",
              "      <td>...</td>\n",
              "      <td>...</td>\n",
              "    </tr>\n",
              "    <tr>\n",
              "      <th>16593</th>\n",
              "      <td>16596</td>\n",
              "      <td>Woody Woodpecker in Crazy Castle 5</td>\n",
              "      <td>GBA</td>\n",
              "      <td>2002.0</td>\n",
              "      <td>Platform</td>\n",
              "      <td>Kemco</td>\n",
              "      <td>0.01</td>\n",
              "      <td>0.01</td>\n",
              "    </tr>\n",
              "    <tr>\n",
              "      <th>16594</th>\n",
              "      <td>16597</td>\n",
              "      <td>Men in Black II: Alien Escape</td>\n",
              "      <td>GC</td>\n",
              "      <td>2003.0</td>\n",
              "      <td>Shooter</td>\n",
              "      <td>Infogrames</td>\n",
              "      <td>0.01</td>\n",
              "      <td>0.01</td>\n",
              "    </tr>\n",
              "    <tr>\n",
              "      <th>16595</th>\n",
              "      <td>16598</td>\n",
              "      <td>SCORE International Baja 1000: The Official Game</td>\n",
              "      <td>PS2</td>\n",
              "      <td>2008.0</td>\n",
              "      <td>Racing</td>\n",
              "      <td>Activision</td>\n",
              "      <td>0.00</td>\n",
              "      <td>0.01</td>\n",
              "    </tr>\n",
              "    <tr>\n",
              "      <th>16596</th>\n",
              "      <td>16599</td>\n",
              "      <td>Know How 2</td>\n",
              "      <td>DS</td>\n",
              "      <td>2010.0</td>\n",
              "      <td>Puzzle</td>\n",
              "      <td>7G//AMES</td>\n",
              "      <td>0.00</td>\n",
              "      <td>0.01</td>\n",
              "    </tr>\n",
              "    <tr>\n",
              "      <th>16597</th>\n",
              "      <td>16600</td>\n",
              "      <td>Spirits &amp; Spells</td>\n",
              "      <td>GBA</td>\n",
              "      <td>2003.0</td>\n",
              "      <td>Platform</td>\n",
              "      <td>Wanadoo</td>\n",
              "      <td>0.01</td>\n",
              "      <td>0.01</td>\n",
              "    </tr>\n",
              "  </tbody>\n",
              "</table>\n",
              "<p>16598 rows × 8 columns</p>\n",
              "</div>"
            ],
            "text/plain": [
              "        Rank  ... Global_Sales\n",
              "0          1  ...        82.74\n",
              "1          2  ...        40.24\n",
              "2          3  ...        35.82\n",
              "3          4  ...        33.00\n",
              "4          5  ...        31.37\n",
              "...      ...  ...          ...\n",
              "16593  16596  ...         0.01\n",
              "16594  16597  ...         0.01\n",
              "16595  16598  ...         0.01\n",
              "16596  16599  ...         0.01\n",
              "16597  16600  ...         0.01\n",
              "\n",
              "[16598 rows x 8 columns]"
            ]
          },
          "metadata": {},
          "execution_count": 5
        }
      ]
    },
    {
      "cell_type": "markdown",
      "metadata": {
        "id": "0cXHzY3ou8BL"
      },
      "source": [
        "> **c)** Correcta manipulación de los datos nulos dentro de la base de datos."
      ]
    },
    {
      "cell_type": "code",
      "metadata": {
        "colab": {
          "base_uri": "https://localhost:8080/"
        },
        "id": "KNgf2BSUm64Y",
        "outputId": "36b0c558-0332-4fc4-b346-2c4f30e94507"
      },
      "source": [
        "print(\"Nombre de columna / Datos nulos\\n\")\n",
        "bdn.isnull().sum() #Nos indica la cantidad de datos nulos en cada columna"
      ],
      "execution_count": null,
      "outputs": [
        {
          "output_type": "stream",
          "name": "stdout",
          "text": [
            "Nombre de columna / Datos nulos\n",
            "\n"
          ]
        },
        {
          "output_type": "execute_result",
          "data": {
            "text/plain": [
              "Rank              0\n",
              "Name              0\n",
              "Platform          0\n",
              "Year            271\n",
              "Genre             0\n",
              "Publisher        58\n",
              "NA_Sales          0\n",
              "Global_Sales      0\n",
              "dtype: int64"
            ]
          },
          "metadata": {},
          "execution_count": 6
        }
      ]
    },
    {
      "cell_type": "markdown",
      "metadata": {
        "id": "hBOjR4g4pr1m"
      },
      "source": [
        ">>  Nuestra base de datos cuenta con 58 datos nulos en la columna \"Publisher\" por lo que procederemos a insertar un \"cero\", esto para no perder datos al borrar filas completas."
      ]
    },
    {
      "cell_type": "code",
      "metadata": {
        "colab": {
          "base_uri": "https://localhost:8080/"
        },
        "id": "6oUw2-CKquyH",
        "outputId": "96b6f360-b957-4c88-b682-f1c8b07d10d1"
      },
      "source": [
        "bdc = bdn.fillna(0) #Reemplaza datos nulos por ceros\n",
        "bdc.isnull().sum()"
      ],
      "execution_count": null,
      "outputs": [
        {
          "output_type": "execute_result",
          "data": {
            "text/plain": [
              "Rank            0\n",
              "Name            0\n",
              "Platform        0\n",
              "Year            0\n",
              "Genre           0\n",
              "Publisher       0\n",
              "NA_Sales        0\n",
              "Global_Sales    0\n",
              "dtype: int64"
            ]
          },
          "metadata": {},
          "execution_count": 7
        }
      ]
    },
    {
      "cell_type": "markdown",
      "metadata": {
        "id": "Ih-biVogrcAk"
      },
      "source": [
        ">>  Nuestra base de datos ya no cuenta con datos nulos."
      ]
    },
    {
      "cell_type": "markdown",
      "metadata": {
        "id": "Sv-pN_OFqpMV"
      },
      "source": [
        ">**e)** Cambiar nombres de columnas y guardar archivo con la base de datos editada."
      ]
    },
    {
      "cell_type": "code",
      "metadata": {
        "colab": {
          "base_uri": "https://localhost:8080/",
          "height": 142
        },
        "id": "y3_xn7WBrs61",
        "outputId": "e846bf21-d179-4c35-a1ff-0ee5744930df"
      },
      "source": [
        "bd1=bdc.rename(columns = {'Rank':'Ranking','Name':'Nombre','Platform':'Plataforma', 'Year':'Año', 'Genre':'Genero',\n",
        "                     'Publisher':'Desarrolladora','NA_Sales':'Ventas_Norte_America_(MDD)', 'Global_Sales':'Ventas_Globales_(MDD)'})\n",
        "bd1.head(3)\n",
        "#Esta funcion nos ayuda a cambiar el nombre de una columna con la siguiente forma: 'Columna':'Nuevo nombre'\n",
        "#Aqui cambiamos los nombres de las columnas a su traducción al español.\n",
        "#Creamos una nueva base de datos con los nuevos nombres."
      ],
      "execution_count": null,
      "outputs": [
        {
          "output_type": "execute_result",
          "data": {
            "text/html": [
              "<div>\n",
              "<style scoped>\n",
              "    .dataframe tbody tr th:only-of-type {\n",
              "        vertical-align: middle;\n",
              "    }\n",
              "\n",
              "    .dataframe tbody tr th {\n",
              "        vertical-align: top;\n",
              "    }\n",
              "\n",
              "    .dataframe thead th {\n",
              "        text-align: right;\n",
              "    }\n",
              "</style>\n",
              "<table border=\"1\" class=\"dataframe\">\n",
              "  <thead>\n",
              "    <tr style=\"text-align: right;\">\n",
              "      <th></th>\n",
              "      <th>Ranking</th>\n",
              "      <th>Nombre</th>\n",
              "      <th>Plataforma</th>\n",
              "      <th>Año</th>\n",
              "      <th>Genero</th>\n",
              "      <th>Desarrolladora</th>\n",
              "      <th>Ventas_Norte_America_(MDD)</th>\n",
              "      <th>Ventas_Globales_(MDD)</th>\n",
              "    </tr>\n",
              "  </thead>\n",
              "  <tbody>\n",
              "    <tr>\n",
              "      <th>0</th>\n",
              "      <td>1</td>\n",
              "      <td>Wii Sports</td>\n",
              "      <td>Wii</td>\n",
              "      <td>2006.0</td>\n",
              "      <td>Sports</td>\n",
              "      <td>Nintendo</td>\n",
              "      <td>41.49</td>\n",
              "      <td>82.74</td>\n",
              "    </tr>\n",
              "    <tr>\n",
              "      <th>1</th>\n",
              "      <td>2</td>\n",
              "      <td>Super Mario Bros.</td>\n",
              "      <td>NES</td>\n",
              "      <td>1985.0</td>\n",
              "      <td>Platform</td>\n",
              "      <td>Nintendo</td>\n",
              "      <td>29.08</td>\n",
              "      <td>40.24</td>\n",
              "    </tr>\n",
              "    <tr>\n",
              "      <th>2</th>\n",
              "      <td>3</td>\n",
              "      <td>Mario Kart Wii</td>\n",
              "      <td>Wii</td>\n",
              "      <td>2008.0</td>\n",
              "      <td>Racing</td>\n",
              "      <td>Nintendo</td>\n",
              "      <td>15.85</td>\n",
              "      <td>35.82</td>\n",
              "    </tr>\n",
              "  </tbody>\n",
              "</table>\n",
              "</div>"
            ],
            "text/plain": [
              "   Ranking  ... Ventas_Globales_(MDD)\n",
              "0        1  ...                 82.74\n",
              "1        2  ...                 40.24\n",
              "2        3  ...                 35.82\n",
              "\n",
              "[3 rows x 8 columns]"
            ]
          },
          "metadata": {},
          "execution_count": 68
        }
      ]
    },
    {
      "cell_type": "markdown",
      "metadata": {
        "id": "F8m8xFOUtDps"
      },
      "source": [
        "**2. Estadística básica de los datos**\n",
        "\n",
        "a) Iniciamos con algunos de los datos estadísticos realizados en la práctica 2."
      ]
    },
    {
      "cell_type": "code",
      "metadata": {
        "colab": {
          "base_uri": "https://localhost:8080/"
        },
        "id": "3fwsNX7FtU-L",
        "outputId": "b4c853e1-c075-4826-da77-23f1908c8b7b"
      },
      "source": [
        "bd1['Ventas_Norte_América_(MDD)'].describe()"
      ],
      "execution_count": null,
      "outputs": [
        {
          "output_type": "execute_result",
          "data": {
            "text/plain": [
              "count    16598.000000\n",
              "mean         0.264667\n",
              "std          0.816683\n",
              "min          0.000000\n",
              "25%          0.000000\n",
              "50%          0.080000\n",
              "75%          0.240000\n",
              "max         41.490000\n",
              "Name: Ventas_Norte_América_(MDD), dtype: float64"
            ]
          },
          "metadata": {},
          "execution_count": 27
        }
      ]
    },
    {
      "cell_type": "markdown",
      "metadata": {
        "id": "Xq4EQMGMtmKk"
      },
      "source": [
        ">> Dado que nuestro objetivo principal está desarrollado principalmente en las ventas que se generaron en Norte América, obtuvimos la descripción estadística de dicha columna, la cual nos muestra que:\n",
        "\n",
        "\n",
        ">>>*   El rango de ventas en MDD es de [0, 41.49]\n",
        ">>>*   El promedio de ventas es de 0.26 MDD\n",
        ">>>*   La desviación estándar de los datos es de 0.81 lo que significa que las ventas están muy dispersas de la media.\n",
        "\n"
      ]
    },
    {
      "cell_type": "code",
      "metadata": {
        "colab": {
          "base_uri": "https://localhost:8080/"
        },
        "id": "AguAjrz_uC59",
        "outputId": "f1ba1ae1-8849-405f-fd2c-484329272fe2"
      },
      "source": [
        "bd1['Género'].describe()"
      ],
      "execution_count": null,
      "outputs": [
        {
          "output_type": "execute_result",
          "data": {
            "text/plain": [
              "count      16598\n",
              "unique        12\n",
              "top       Action\n",
              "freq        3316\n",
              "Name: Género, dtype: object"
            ]
          },
          "metadata": {},
          "execution_count": 12
        }
      ]
    },
    {
      "cell_type": "markdown",
      "metadata": {
        "id": "-KrZMXY6rZij"
      },
      "source": [
        ">>Después, revisamos la columna \"Género\" y notamos que contamos con 12 géneros distintos, siendo \"Action\" el más repetido."
      ]
    },
    {
      "cell_type": "markdown",
      "metadata": {
        "id": "E4YXah1suzJ-"
      },
      "source": [
        "**3. Gráficas**\n"
      ]
    },
    {
      "cell_type": "code",
      "metadata": {
        "id": "HiOk-NSnyOQR"
      },
      "source": [
        "pd.plotting.register_matplotlib_converters()\n",
        "import matplotlib as plt\n",
        "%matplotlib inline\n",
        "import seaborn as sns"
      ],
      "execution_count": null,
      "outputs": []
    },
    {
      "cell_type": "code",
      "metadata": {
        "colab": {
          "base_uri": "https://localhost:8080/",
          "height": 298
        },
        "id": "VjZ8mJlywKFy",
        "outputId": "0345e799-12cb-4924-d04f-8e5e0fc617c0"
      },
      "source": [
        "(bd1['Plataforma'].value_counts().head(10)/len(bd1)).plot.bar()"
      ],
      "execution_count": null,
      "outputs": [
        {
          "output_type": "execute_result",
          "data": {
            "text/plain": [
              "<matplotlib.axes._subplots.AxesSubplot at 0x7f27fdc738d0>"
            ]
          },
          "metadata": {},
          "execution_count": 86
        },
        {
          "output_type": "display_data",
          "data": {
            "image/png": "[encoded data removed]",
            "text/plain": [
              "<Figure size 432x288 with 1 Axes>"
            ]
          },
          "metadata": {
            "needs_background": "light"
          }
        }
      ]
    },
    {
      "cell_type": "markdown",
      "metadata": {
        "id": "WilwMbNa7Pav"
      },
      "source": [
        "Con esta gráfica podemos observar la proporcion de videojuegos por plataforma que conforman nuestra base de datos, concluyendo que más del 20% de nuestro ranking está conformado por videojuegos para consolas DS y PS2.\n",
        "Conociendo las plataformas con mayor presencia en el mercado, ahora buscaremos saber qué porcentaje ocupa cada género de videojuegos."
      ]
    },
    {
      "cell_type": "code",
      "metadata": {
        "colab": {
          "base_uri": "https://localhost:8080/",
          "height": 248
        },
        "id": "y0ilY0uiwlRD",
        "outputId": "36602d36-b2de-4686-a83f-a0effd1a2cb2"
      },
      "source": [
        "bd1.Género.value_counts().plot.pie(autopct=\"%0.1f %%\").yaxis.labelpad=55"
      ],
      "execution_count": null,
      "outputs": [
        {
          "output_type": "display_data",
          "data": {
            "image/png": "[encoded data removed]",
            "text/plain": [
              "<Figure size 432x288 with 1 Axes>"
            ]
          },
          "metadata": {}
        }
      ]
    },
    {
      "cell_type": "markdown",
      "metadata": {
        "id": "N-7KbYgb9i0Y"
      },
      "source": [
        "En esta gráfica circular podemos observar la proporcion de videojuegos por género que conforman nuestra base de datos, concluyendo que el género más frecuente es el de \"Acción\" superando el 18%, siguiendo el género \"Deportes\" y teniendo en 3er lugar el genero \"Misc\"."
      ]
    },
    {
      "cell_type": "markdown",
      "metadata": {
        "id": "2sricKVuykEK"
      },
      "source": [
        "**a) Realizar agrupación**"
      ]
    },
    {
      "cell_type": "markdown",
      "metadata": {
        "id": "yU4iZA4aDDPt"
      },
      "source": [
        "1. Para realizar el gráfico correspondiente al total de ventas respecto a cada \n",
        "género, tendremos que realizar una agrupación.\n",
        ">Realizaremos una nueva base de datos donde sólo estén las columnas \"Género\" y \"Ventas Norte América (MDD)\".\n",
        "\n",
        "\n"
      ]
    },
    {
      "cell_type": "code",
      "metadata": {
        "colab": {
          "base_uri": "https://localhost:8080/",
          "height": 419
        },
        "id": "GG6XbHPC1QeJ",
        "outputId": "0d51a9c4-6604-4291-9af8-970d45ca2107"
      },
      "source": [
        "bdgen= bd1.iloc[:, [4,6]] #Realizamos nueva bd solo con la columna género y ventas.\n",
        "bdgen\n",
        "#DUDAS: https://www.analyticslane.com/2019/06/21/seleccionar-filas-y-columnas-en-pandas-con-iloc-y-loc/"
      ],
      "execution_count": null,
      "outputs": [
        {
          "output_type": "execute_result",
          "data": {
            "text/html": [
              "<div>\n",
              "<style scoped>\n",
              "    .dataframe tbody tr th:only-of-type {\n",
              "        vertical-align: middle;\n",
              "    }\n",
              "\n",
              "    .dataframe tbody tr th {\n",
              "        vertical-align: top;\n",
              "    }\n",
              "\n",
              "    .dataframe thead th {\n",
              "        text-align: right;\n",
              "    }\n",
              "</style>\n",
              "<table border=\"1\" class=\"dataframe\">\n",
              "  <thead>\n",
              "    <tr style=\"text-align: right;\">\n",
              "      <th></th>\n",
              "      <th>Género</th>\n",
              "      <th>Ventas_Norte_América_(MDD)</th>\n",
              "    </tr>\n",
              "  </thead>\n",
              "  <tbody>\n",
              "    <tr>\n",
              "      <th>0</th>\n",
              "      <td>Sports</td>\n",
              "      <td>41.49</td>\n",
              "    </tr>\n",
              "    <tr>\n",
              "      <th>1</th>\n",
              "      <td>Platform</td>\n",
              "      <td>29.08</td>\n",
              "    </tr>\n",
              "    <tr>\n",
              "      <th>2</th>\n",
              "      <td>Racing</td>\n",
              "      <td>15.85</td>\n",
              "    </tr>\n",
              "    <tr>\n",
              "      <th>3</th>\n",
              "      <td>Sports</td>\n",
              "      <td>15.75</td>\n",
              "    </tr>\n",
              "    <tr>\n",
              "      <th>4</th>\n",
              "      <td>Role-Playing</td>\n",
              "      <td>11.27</td>\n",
              "    </tr>\n",
              "    <tr>\n",
              "      <th>...</th>\n",
              "      <td>...</td>\n",
              "      <td>...</td>\n",
              "    </tr>\n",
              "    <tr>\n",
              "      <th>16593</th>\n",
              "      <td>Platform</td>\n",
              "      <td>0.01</td>\n",
              "    </tr>\n",
              "    <tr>\n",
              "      <th>16594</th>\n",
              "      <td>Shooter</td>\n",
              "      <td>0.01</td>\n",
              "    </tr>\n",
              "    <tr>\n",
              "      <th>16595</th>\n",
              "      <td>Racing</td>\n",
              "      <td>0.00</td>\n",
              "    </tr>\n",
              "    <tr>\n",
              "      <th>16596</th>\n",
              "      <td>Puzzle</td>\n",
              "      <td>0.00</td>\n",
              "    </tr>\n",
              "    <tr>\n",
              "      <th>16597</th>\n",
              "      <td>Platform</td>\n",
              "      <td>0.01</td>\n",
              "    </tr>\n",
              "  </tbody>\n",
              "</table>\n",
              "<p>16598 rows × 2 columns</p>\n",
              "</div>"
            ],
            "text/plain": [
              "             Género  Ventas_Norte_América_(MDD)\n",
              "0            Sports                       41.49\n",
              "1          Platform                       29.08\n",
              "2            Racing                       15.85\n",
              "3            Sports                       15.75\n",
              "4      Role-Playing                       11.27\n",
              "...             ...                         ...\n",
              "16593      Platform                        0.01\n",
              "16594       Shooter                        0.01\n",
              "16595        Racing                        0.00\n",
              "16596        Puzzle                        0.00\n",
              "16597      Platform                        0.01\n",
              "\n",
              "[16598 rows x 2 columns]"
            ]
          },
          "metadata": {},
          "execution_count": 9
        }
      ]
    },
    {
      "cell_type": "markdown",
      "metadata": {
        "id": "t7Y14CnfDoKR"
      },
      "source": [
        "> Ahora con nuestra nueva BD, agruparemos nuestros datos de tal manera que podamos visualizar el total de ventas en (MDD) que cada género de videojuegos obtuvó."
      ]
    },
    {
      "cell_type": "code",
      "metadata": {
        "colab": {
          "base_uri": "https://localhost:8080/",
          "height": 452
        },
        "id": "1Lnl_Nt02G8T",
        "outputId": "6e09311d-3fe1-483b-a2a5-63b7d5ca4294"
      },
      "source": [
        "bdsum=bdgen.groupby(['Género']).sum() #En esta agrupación se muestra una bd con la suma total de ventas en MDD por género.\n",
        "bdsum\n",
        "#DUDAS: https://medium.com/ironhack/data-cleaning-con-pandas-parte-2-a4e1f55e446b"
      ],
      "execution_count": null,
      "outputs": [
        {
          "output_type": "execute_result",
          "data": {
            "text/html": [
              "<div>\n",
              "<style scoped>\n",
              "    .dataframe tbody tr th:only-of-type {\n",
              "        vertical-align: middle;\n",
              "    }\n",
              "\n",
              "    .dataframe tbody tr th {\n",
              "        vertical-align: top;\n",
              "    }\n",
              "\n",
              "    .dataframe thead th {\n",
              "        text-align: right;\n",
              "    }\n",
              "</style>\n",
              "<table border=\"1\" class=\"dataframe\">\n",
              "  <thead>\n",
              "    <tr style=\"text-align: right;\">\n",
              "      <th></th>\n",
              "      <th>Ventas_Norte_América_(MDD)</th>\n",
              "    </tr>\n",
              "    <tr>\n",
              "      <th>Género</th>\n",
              "      <th></th>\n",
              "    </tr>\n",
              "  </thead>\n",
              "  <tbody>\n",
              "    <tr>\n",
              "      <th>Action</th>\n",
              "      <td>877.83</td>\n",
              "    </tr>\n",
              "    <tr>\n",
              "      <th>Adventure</th>\n",
              "      <td>105.80</td>\n",
              "    </tr>\n",
              "    <tr>\n",
              "      <th>Fighting</th>\n",
              "      <td>223.59</td>\n",
              "    </tr>\n",
              "    <tr>\n",
              "      <th>Misc</th>\n",
              "      <td>410.24</td>\n",
              "    </tr>\n",
              "    <tr>\n",
              "      <th>Platform</th>\n",
              "      <td>447.05</td>\n",
              "    </tr>\n",
              "    <tr>\n",
              "      <th>Puzzle</th>\n",
              "      <td>123.78</td>\n",
              "    </tr>\n",
              "    <tr>\n",
              "      <th>Racing</th>\n",
              "      <td>359.42</td>\n",
              "    </tr>\n",
              "    <tr>\n",
              "      <th>Role-Playing</th>\n",
              "      <td>327.28</td>\n",
              "    </tr>\n",
              "    <tr>\n",
              "      <th>Shooter</th>\n",
              "      <td>582.60</td>\n",
              "    </tr>\n",
              "    <tr>\n",
              "      <th>Simulation</th>\n",
              "      <td>183.31</td>\n",
              "    </tr>\n",
              "    <tr>\n",
              "      <th>Sports</th>\n",
              "      <td>683.35</td>\n",
              "    </tr>\n",
              "    <tr>\n",
              "      <th>Strategy</th>\n",
              "      <td>68.70</td>\n",
              "    </tr>\n",
              "  </tbody>\n",
              "</table>\n",
              "</div>"
            ],
            "text/plain": [
              "              Ventas_Norte_América_(MDD)\n",
              "Género                                  \n",
              "Action                            877.83\n",
              "Adventure                         105.80\n",
              "Fighting                          223.59\n",
              "Misc                              410.24\n",
              "Platform                          447.05\n",
              "Puzzle                            123.78\n",
              "Racing                            359.42\n",
              "Role-Playing                      327.28\n",
              "Shooter                           582.60\n",
              "Simulation                        183.31\n",
              "Sports                            683.35\n",
              "Strategy                           68.70"
            ]
          },
          "metadata": {},
          "execution_count": 34
        }
      ]
    },
    {
      "cell_type": "code",
      "metadata": {
        "colab": {
          "base_uri": "https://localhost:8080/",
          "height": 348
        },
        "id": "gmhvE8OoCIH1",
        "outputId": "bc32e063-7023-40c2-e284-9a6131e915ea"
      },
      "source": [
        "bdsum.plot(kind='bar')\n",
        "#DUDAS:https://datacarpentry.org/python-ecology-lesson-es/guide/"
      ],
      "execution_count": null,
      "outputs": [
        {
          "output_type": "execute_result",
          "data": {
            "text/plain": [
              "<matplotlib.axes._subplots.AxesSubplot at 0x7f27fb051e10>"
            ]
          },
          "metadata": {},
          "execution_count": 120
        },
        {
          "output_type": "display_data",
          "data": {
            "image/png": "[encoded data removed]",
            "text/plain": [
              "<Figure size 432x288 with 1 Axes>"
            ]
          },
          "metadata": {
            "needs_background": "light"
          }
        }
      ]
    },
    {
      "cell_type": "markdown",
      "metadata": {
        "id": "NbV8a5y_C07k"
      },
      "source": [
        "> Podemos observar claramente como el género \"Acción\" fue el género que más ingresos en ventas obtuvo respecto a nuestro ranking, alcanzando los 877.83 MDD, siguiendo el género \"Deportes\" con 683.35 y teniendo en 3er lugar al género \"Disparos\" con 582.6 MDD."
      ]
    },
    {
      "cell_type": "markdown",
      "metadata": {
        "id": "b2IobDweGXQM"
      },
      "source": [
        "2. Para realizar el gráfico correspondiente al total de ventas respecto a la plataforma, tendremos que realizar una agrupación.\n",
        ">Realizaremos una nueva BD donde sólo estén las columnas \"Plataforma\" y \"Ventas Norte América (MDD)\".\n"
      ]
    },
    {
      "cell_type": "code",
      "metadata": {
        "colab": {
          "base_uri": "https://localhost:8080/",
          "height": 419
        },
        "id": "YQhVUQZwGpRb",
        "outputId": "eac28fe1-1ea5-4e65-be8b-80714809c496"
      },
      "source": [
        "bdplat= bd1.iloc[:, [2,6]] #Realizamos nueva bd con solo la columna plataforma y ventas.\n",
        "bdplat\n",
        "#DUDAS: https://www.analyticslane.com/2019/06/21/seleccionar-filas-y-columnas-en-pandas-con-iloc-y-loc/"
      ],
      "execution_count": null,
      "outputs": [
        {
          "output_type": "execute_result",
          "data": {
            "text/html": [
              "<div>\n",
              "<style scoped>\n",
              "    .dataframe tbody tr th:only-of-type {\n",
              "        vertical-align: middle;\n",
              "    }\n",
              "\n",
              "    .dataframe tbody tr th {\n",
              "        vertical-align: top;\n",
              "    }\n",
              "\n",
              "    .dataframe thead th {\n",
              "        text-align: right;\n",
              "    }\n",
              "</style>\n",
              "<table border=\"1\" class=\"dataframe\">\n",
              "  <thead>\n",
              "    <tr style=\"text-align: right;\">\n",
              "      <th></th>\n",
              "      <th>Plataforma</th>\n",
              "      <th>Ventas_Norte_América_(MDD)</th>\n",
              "    </tr>\n",
              "  </thead>\n",
              "  <tbody>\n",
              "    <tr>\n",
              "      <th>0</th>\n",
              "      <td>Wii</td>\n",
              "      <td>41.49</td>\n",
              "    </tr>\n",
              "    <tr>\n",
              "      <th>1</th>\n",
              "      <td>NES</td>\n",
              "      <td>29.08</td>\n",
              "    </tr>\n",
              "    <tr>\n",
              "      <th>2</th>\n",
              "      <td>Wii</td>\n",
              "      <td>15.85</td>\n",
              "    </tr>\n",
              "    <tr>\n",
              "      <th>3</th>\n",
              "      <td>Wii</td>\n",
              "      <td>15.75</td>\n",
              "    </tr>\n",
              "    <tr>\n",
              "      <th>4</th>\n",
              "      <td>GB</td>\n",
              "      <td>11.27</td>\n",
              "    </tr>\n",
              "    <tr>\n",
              "      <th>...</th>\n",
              "      <td>...</td>\n",
              "      <td>...</td>\n",
              "    </tr>\n",
              "    <tr>\n",
              "      <th>16593</th>\n",
              "      <td>GBA</td>\n",
              "      <td>0.01</td>\n",
              "    </tr>\n",
              "    <tr>\n",
              "      <th>16594</th>\n",
              "      <td>GC</td>\n",
              "      <td>0.01</td>\n",
              "    </tr>\n",
              "    <tr>\n",
              "      <th>16595</th>\n",
              "      <td>PS2</td>\n",
              "      <td>0.00</td>\n",
              "    </tr>\n",
              "    <tr>\n",
              "      <th>16596</th>\n",
              "      <td>DS</td>\n",
              "      <td>0.00</td>\n",
              "    </tr>\n",
              "    <tr>\n",
              "      <th>16597</th>\n",
              "      <td>GBA</td>\n",
              "      <td>0.01</td>\n",
              "    </tr>\n",
              "  </tbody>\n",
              "</table>\n",
              "<p>16598 rows × 2 columns</p>\n",
              "</div>"
            ],
            "text/plain": [
              "      Plataforma  Ventas_Norte_América_(MDD)\n",
              "0            Wii                       41.49\n",
              "1            NES                       29.08\n",
              "2            Wii                       15.85\n",
              "3            Wii                       15.75\n",
              "4             GB                       11.27\n",
              "...          ...                         ...\n",
              "16593        GBA                        0.01\n",
              "16594         GC                        0.01\n",
              "16595        PS2                        0.00\n",
              "16596         DS                        0.00\n",
              "16597        GBA                        0.01\n",
              "\n",
              "[16598 rows x 2 columns]"
            ]
          },
          "metadata": {},
          "execution_count": 10
        }
      ]
    },
    {
      "cell_type": "markdown",
      "metadata": {
        "id": "6U0CVG3aG181"
      },
      "source": [
        "> Ahora con nuestra nueva BD, agruparemos nuestros datos de tal manera que podamos visualizar el total de ventas en (MDD) que cada plataforma de videojuegos obtuvó."
      ]
    },
    {
      "cell_type": "code",
      "metadata": {
        "colab": {
          "base_uri": "https://localhost:8080/",
          "height": 1000
        },
        "id": "tlKlZ15IG9Pz",
        "outputId": "5d249459-1c19-47d0-8215-efdfb75df54d"
      },
      "source": [
        "bdsum2=bdplat.groupby(['Plataforma']).sum() #En esta agrupación se muestra una bd con la suma total de ventas en MDD por plataforma.\n",
        "bdsum2\n",
        "#DUDAS: https://medium.com/ironhack/data-cleaning-con-pandas-parte-2-a4e1f55e446b"
      ],
      "execution_count": null,
      "outputs": [
        {
          "output_type": "execute_result",
          "data": {
            "text/html": [
              "<div>\n",
              "<style scoped>\n",
              "    .dataframe tbody tr th:only-of-type {\n",
              "        vertical-align: middle;\n",
              "    }\n",
              "\n",
              "    .dataframe tbody tr th {\n",
              "        vertical-align: top;\n",
              "    }\n",
              "\n",
              "    .dataframe thead th {\n",
              "        text-align: right;\n",
              "    }\n",
              "</style>\n",
              "<table border=\"1\" class=\"dataframe\">\n",
              "  <thead>\n",
              "    <tr style=\"text-align: right;\">\n",
              "      <th></th>\n",
              "      <th>Ventas_Norte_América_(MDD)</th>\n",
              "    </tr>\n",
              "    <tr>\n",
              "      <th>Plataforma</th>\n",
              "      <th></th>\n",
              "    </tr>\n",
              "  </thead>\n",
              "  <tbody>\n",
              "    <tr>\n",
              "      <th>2600</th>\n",
              "      <td>90.60</td>\n",
              "    </tr>\n",
              "    <tr>\n",
              "      <th>3DO</th>\n",
              "      <td>0.00</td>\n",
              "    </tr>\n",
              "    <tr>\n",
              "      <th>3DS</th>\n",
              "      <td>78.87</td>\n",
              "    </tr>\n",
              "    <tr>\n",
              "      <th>DC</th>\n",
              "      <td>5.43</td>\n",
              "    </tr>\n",
              "    <tr>\n",
              "      <th>DS</th>\n",
              "      <td>390.71</td>\n",
              "    </tr>\n",
              "    <tr>\n",
              "      <th>GB</th>\n",
              "      <td>114.32</td>\n",
              "    </tr>\n",
              "    <tr>\n",
              "      <th>GBA</th>\n",
              "      <td>187.54</td>\n",
              "    </tr>\n",
              "    <tr>\n",
              "      <th>GC</th>\n",
              "      <td>133.46</td>\n",
              "    </tr>\n",
              "    <tr>\n",
              "      <th>GEN</th>\n",
              "      <td>19.27</td>\n",
              "    </tr>\n",
              "    <tr>\n",
              "      <th>GG</th>\n",
              "      <td>0.00</td>\n",
              "    </tr>\n",
              "    <tr>\n",
              "      <th>N64</th>\n",
              "      <td>139.02</td>\n",
              "    </tr>\n",
              "    <tr>\n",
              "      <th>NES</th>\n",
              "      <td>125.94</td>\n",
              "    </tr>\n",
              "    <tr>\n",
              "      <th>NG</th>\n",
              "      <td>0.00</td>\n",
              "    </tr>\n",
              "    <tr>\n",
              "      <th>PC</th>\n",
              "      <td>93.28</td>\n",
              "    </tr>\n",
              "    <tr>\n",
              "      <th>PCFX</th>\n",
              "      <td>0.00</td>\n",
              "    </tr>\n",
              "    <tr>\n",
              "      <th>PS</th>\n",
              "      <td>336.51</td>\n",
              "    </tr>\n",
              "    <tr>\n",
              "      <th>PS2</th>\n",
              "      <td>583.84</td>\n",
              "    </tr>\n",
              "    <tr>\n",
              "      <th>PS3</th>\n",
              "      <td>392.26</td>\n",
              "    </tr>\n",
              "    <tr>\n",
              "      <th>PS4</th>\n",
              "      <td>96.80</td>\n",
              "    </tr>\n",
              "    <tr>\n",
              "      <th>PSP</th>\n",
              "      <td>108.99</td>\n",
              "    </tr>\n",
              "    <tr>\n",
              "      <th>PSV</th>\n",
              "      <td>16.20</td>\n",
              "    </tr>\n",
              "    <tr>\n",
              "      <th>SAT</th>\n",
              "      <td>0.72</td>\n",
              "    </tr>\n",
              "    <tr>\n",
              "      <th>SCD</th>\n",
              "      <td>1.00</td>\n",
              "    </tr>\n",
              "    <tr>\n",
              "      <th>SNES</th>\n",
              "      <td>61.23</td>\n",
              "    </tr>\n",
              "    <tr>\n",
              "      <th>TG16</th>\n",
              "      <td>0.00</td>\n",
              "    </tr>\n",
              "    <tr>\n",
              "      <th>WS</th>\n",
              "      <td>0.00</td>\n",
              "    </tr>\n",
              "    <tr>\n",
              "      <th>Wii</th>\n",
              "      <td>507.71</td>\n",
              "    </tr>\n",
              "    <tr>\n",
              "      <th>WiiU</th>\n",
              "      <td>38.32</td>\n",
              "    </tr>\n",
              "    <tr>\n",
              "      <th>X360</th>\n",
              "      <td>601.05</td>\n",
              "    </tr>\n",
              "    <tr>\n",
              "      <th>XB</th>\n",
              "      <td>186.69</td>\n",
              "    </tr>\n",
              "    <tr>\n",
              "      <th>XOne</th>\n",
              "      <td>83.19</td>\n",
              "    </tr>\n",
              "  </tbody>\n",
              "</table>\n",
              "</div>"
            ],
            "text/plain": [
              "            Ventas_Norte_América_(MDD)\n",
              "Plataforma                            \n",
              "2600                             90.60\n",
              "3DO                               0.00\n",
              "3DS                              78.87\n",
              "DC                                5.43\n",
              "DS                              390.71\n",
              "GB                              114.32\n",
              "GBA                             187.54\n",
              "GC                              133.46\n",
              "GEN                              19.27\n",
              "GG                                0.00\n",
              "N64                             139.02\n",
              "NES                             125.94\n",
              "NG                                0.00\n",
              "PC                               93.28\n",
              "PCFX                              0.00\n",
              "PS                              336.51\n",
              "PS2                             583.84\n",
              "PS3                             392.26\n",
              "PS4                              96.80\n",
              "PSP                             108.99\n",
              "PSV                              16.20\n",
              "SAT                               0.72\n",
              "SCD                               1.00\n",
              "SNES                             61.23\n",
              "TG16                              0.00\n",
              "WS                                0.00\n",
              "Wii                             507.71\n",
              "WiiU                             38.32\n",
              "X360                            601.05\n",
              "XB                              186.69\n",
              "XOne                             83.19"
            ]
          },
          "metadata": {},
          "execution_count": 37
        }
      ]
    },
    {
      "cell_type": "code",
      "metadata": {
        "colab": {
          "base_uri": "https://localhost:8080/",
          "height": 313
        },
        "id": "ApQ5kZS5HMHq",
        "outputId": "65fdb272-fdd9-4f03-e149-3bc574547e4a"
      },
      "source": [
        "bdsum2.plot(kind='bar')\n",
        "#DUDAS:https://datacarpentry.org/python-ecology-lesson-es/guide/"
      ],
      "execution_count": null,
      "outputs": [
        {
          "output_type": "execute_result",
          "data": {
            "text/plain": [
              "<matplotlib.axes._subplots.AxesSubplot at 0x7fd197dbc4d0>"
            ]
          },
          "metadata": {},
          "execution_count": 38
        },
        {
          "output_type": "display_data",
          "data": {
            "image/png": "[encoded data removed]",
            "text/plain": [
              "<Figure size 432x288 with 1 Axes>"
            ]
          },
          "metadata": {
            "needs_background": "light"
          }
        }
      ]
    },
    {
      "cell_type": "markdown",
      "metadata": {
        "id": "eG3S9EmGHl8L"
      },
      "source": [
        "> En esta gráfica podemos observar claramente como los videojuegos para plataforma XBOX360 son los que más ingresos en ventas obtuvieron, generando al menos 601.05 MDD, siguiendo los videojuegos para plataforma PS2 obteniendo 583.84 y teniendo en 3er lugar los videojuegos para Wii 507.71 MDD."
      ]
    },
    {
      "cell_type": "markdown",
      "metadata": {
        "id": "WwY2yC5mtC80"
      },
      "source": [
        "3. Para realizar el gráfico correspondiente al total de ventas respecto a la desarrolladora, tendremos que realizar una agrupación.\n",
        ">Realizaremos una nueva BD donde sólo estén las columnas \"Desarrolladora\" y \"Ventas Norte América (MDD)\".\n"
      ]
    },
    {
      "cell_type": "code",
      "metadata": {
        "colab": {
          "base_uri": "https://localhost:8080/",
          "height": 419
        },
        "id": "TnMS0La8thHA",
        "outputId": "1eae57c3-91d0-40df-8b7e-6f6cccd5e3df"
      },
      "source": [
        "bd_desa= bd1.iloc[:, [5,6]] #Realizamos nueva bd con solo la columna plataforma y ventas.\n",
        "bd_desa"
      ],
      "execution_count": null,
      "outputs": [
        {
          "output_type": "execute_result",
          "data": {
            "text/html": [
              "<div>\n",
              "<style scoped>\n",
              "    .dataframe tbody tr th:only-of-type {\n",
              "        vertical-align: middle;\n",
              "    }\n",
              "\n",
              "    .dataframe tbody tr th {\n",
              "        vertical-align: top;\n",
              "    }\n",
              "\n",
              "    .dataframe thead th {\n",
              "        text-align: right;\n",
              "    }\n",
              "</style>\n",
              "<table border=\"1\" class=\"dataframe\">\n",
              "  <thead>\n",
              "    <tr style=\"text-align: right;\">\n",
              "      <th></th>\n",
              "      <th>Desarrolladora</th>\n",
              "      <th>Ventas_Norte_América_(MDD)</th>\n",
              "    </tr>\n",
              "  </thead>\n",
              "  <tbody>\n",
              "    <tr>\n",
              "      <th>0</th>\n",
              "      <td>Nintendo</td>\n",
              "      <td>41.49</td>\n",
              "    </tr>\n",
              "    <tr>\n",
              "      <th>1</th>\n",
              "      <td>Nintendo</td>\n",
              "      <td>29.08</td>\n",
              "    </tr>\n",
              "    <tr>\n",
              "      <th>2</th>\n",
              "      <td>Nintendo</td>\n",
              "      <td>15.85</td>\n",
              "    </tr>\n",
              "    <tr>\n",
              "      <th>3</th>\n",
              "      <td>Nintendo</td>\n",
              "      <td>15.75</td>\n",
              "    </tr>\n",
              "    <tr>\n",
              "      <th>4</th>\n",
              "      <td>Nintendo</td>\n",
              "      <td>11.27</td>\n",
              "    </tr>\n",
              "    <tr>\n",
              "      <th>...</th>\n",
              "      <td>...</td>\n",
              "      <td>...</td>\n",
              "    </tr>\n",
              "    <tr>\n",
              "      <th>16593</th>\n",
              "      <td>Kemco</td>\n",
              "      <td>0.01</td>\n",
              "    </tr>\n",
              "    <tr>\n",
              "      <th>16594</th>\n",
              "      <td>Infogrames</td>\n",
              "      <td>0.01</td>\n",
              "    </tr>\n",
              "    <tr>\n",
              "      <th>16595</th>\n",
              "      <td>Activision</td>\n",
              "      <td>0.00</td>\n",
              "    </tr>\n",
              "    <tr>\n",
              "      <th>16596</th>\n",
              "      <td>7G//AMES</td>\n",
              "      <td>0.00</td>\n",
              "    </tr>\n",
              "    <tr>\n",
              "      <th>16597</th>\n",
              "      <td>Wanadoo</td>\n",
              "      <td>0.01</td>\n",
              "    </tr>\n",
              "  </tbody>\n",
              "</table>\n",
              "<p>16598 rows × 2 columns</p>\n",
              "</div>"
            ],
            "text/plain": [
              "      Desarrolladora  Ventas_Norte_América_(MDD)\n",
              "0           Nintendo                       41.49\n",
              "1           Nintendo                       29.08\n",
              "2           Nintendo                       15.85\n",
              "3           Nintendo                       15.75\n",
              "4           Nintendo                       11.27\n",
              "...              ...                         ...\n",
              "16593          Kemco                        0.01\n",
              "16594     Infogrames                        0.01\n",
              "16595     Activision                        0.00\n",
              "16596       7G//AMES                        0.00\n",
              "16597        Wanadoo                        0.01\n",
              "\n",
              "[16598 rows x 2 columns]"
            ]
          },
          "metadata": {},
          "execution_count": 12
        }
      ]
    },
    {
      "cell_type": "markdown",
      "metadata": {
        "id": "XYtSgo3mtoYK"
      },
      "source": [
        "> Ahora con nuestra nueva BD, agruparemos nuestros datos de tal manera que podamos visualizar el total de ventas en (MDD) que cada desarrolladora de videojuegos obtuvó."
      ]
    },
    {
      "cell_type": "code",
      "metadata": {
        "colab": {
          "base_uri": "https://localhost:8080/",
          "height": 450
        },
        "id": "5BmwcdAk4UsK",
        "outputId": "6210a83f-ce26-477d-889e-6fc02423d0f8"
      },
      "source": [
        "bdsum3=bd_desa.groupby(['Desarrolladora']).sum() \n",
        "bdsum3 = bdsum3.sort_values('Ventas_Norte_América_(MDD)', ascending=False)\n",
        "bdsum3"
      ],
      "execution_count": null,
      "outputs": [
        {
          "output_type": "execute_result",
          "data": {
            "text/html": [
              "<div>\n",
              "<style scoped>\n",
              "    .dataframe tbody tr th:only-of-type {\n",
              "        vertical-align: middle;\n",
              "    }\n",
              "\n",
              "    .dataframe tbody tr th {\n",
              "        vertical-align: top;\n",
              "    }\n",
              "\n",
              "    .dataframe thead th {\n",
              "        text-align: right;\n",
              "    }\n",
              "</style>\n",
              "<table border=\"1\" class=\"dataframe\">\n",
              "  <thead>\n",
              "    <tr style=\"text-align: right;\">\n",
              "      <th></th>\n",
              "      <th>Ventas_Norte_América_(MDD)</th>\n",
              "    </tr>\n",
              "    <tr>\n",
              "      <th>Desarrolladora</th>\n",
              "      <th></th>\n",
              "    </tr>\n",
              "  </thead>\n",
              "  <tbody>\n",
              "    <tr>\n",
              "      <th>Nintendo</th>\n",
              "      <td>816.87</td>\n",
              "    </tr>\n",
              "    <tr>\n",
              "      <th>Electronic Arts</th>\n",
              "      <td>595.07</td>\n",
              "    </tr>\n",
              "    <tr>\n",
              "      <th>Activision</th>\n",
              "      <td>429.70</td>\n",
              "    </tr>\n",
              "    <tr>\n",
              "      <th>Sony Computer Entertainment</th>\n",
              "      <td>265.22</td>\n",
              "    </tr>\n",
              "    <tr>\n",
              "      <th>Ubisoft</th>\n",
              "      <td>253.43</td>\n",
              "    </tr>\n",
              "    <tr>\n",
              "      <th>...</th>\n",
              "      <td>...</td>\n",
              "    </tr>\n",
              "    <tr>\n",
              "      <th>Genterprise</th>\n",
              "      <td>0.00</td>\n",
              "    </tr>\n",
              "    <tr>\n",
              "      <th>General Entertainment</th>\n",
              "      <td>0.00</td>\n",
              "    </tr>\n",
              "    <tr>\n",
              "      <th>Quest</th>\n",
              "      <td>0.00</td>\n",
              "    </tr>\n",
              "    <tr>\n",
              "      <th>Quinrose</th>\n",
              "      <td>0.00</td>\n",
              "    </tr>\n",
              "    <tr>\n",
              "      <th>Media Entertainment</th>\n",
              "      <td>0.00</td>\n",
              "    </tr>\n",
              "  </tbody>\n",
              "</table>\n",
              "<p>579 rows × 1 columns</p>\n",
              "</div>"
            ],
            "text/plain": [
              "                             Ventas_Norte_América_(MDD)\n",
              "Desarrolladora                                         \n",
              "Nintendo                                         816.87\n",
              "Electronic Arts                                  595.07\n",
              "Activision                                       429.70\n",
              "Sony Computer Entertainment                      265.22\n",
              "Ubisoft                                          253.43\n",
              "...                                                 ...\n",
              "Genterprise                                        0.00\n",
              "General Entertainment                              0.00\n",
              "Quest                                              0.00\n",
              "Quinrose                                           0.00\n",
              "Media Entertainment                                0.00\n",
              "\n",
              "[579 rows x 1 columns]"
            ]
          },
          "metadata": {},
          "execution_count": 25
        }
      ]
    },
    {
      "cell_type": "code",
      "metadata": {
        "colab": {
          "base_uri": "https://localhost:8080/",
          "height": 438
        },
        "id": "Ru4pnx7r5hqj",
        "outputId": "5070f7aa-8316-43d9-da35-56a4b754526c"
      },
      "source": [
        "bdsum3.head(10).plot(kind='bar')"
      ],
      "execution_count": null,
      "outputs": [
        {
          "output_type": "execute_result",
          "data": {
            "text/plain": [
              "<matplotlib.axes._subplots.AxesSubplot at 0x7fd359202b10>"
            ]
          },
          "metadata": {},
          "execution_count": 27
        },
        {
          "output_type": "display_data",
          "data": {
            "image/png": "[encoded data removed]",
            "text/plain": [
              "<Figure size 432x288 with 1 Axes>"
            ]
          },
          "metadata": {
            "needs_background": "light"
          }
        }
      ]
    },
    {
      "cell_type": "markdown",
      "metadata": {
        "id": "63r78LpCvLN5"
      },
      "source": [
        "> Con esta gráfica podemos observar que la desarrolladora que mas ventas ha tenido es Nintendo, la cual tiene un contrato de exclusividad con Nintendo, por lo cual podriamos creer que el hacer juegos exclusivos para una plataforma significa mas ventas. Pero este pensamiento se ve demolido al analizar mas a fondo la grafica, ya que solo Nintendo, Sony y Microsoft tienen contratos de exclusividad, las demas desarrolladoras hacen juegos multiplataforma. Por lo que podemos concluir que hacer videojuegos para distintas plataformas nos brindaria mas ventas."
      ]
    },
    {
      "cell_type": "markdown",
      "metadata": {
        "id": "gNIS8vhJnVSC"
      },
      "source": [
        "#Conclusiones generales:\n",
        "Este pequeño análisis gráfico nos permitio darnos una idea de cómo se comportaron las ventas de videojuegos en nuestro mercado objetivo que es Ámerica del Norte. Pudimos hacer segmentaciones con respecto a la plataforma donde se desarrollaron los videojuegos, tambien pudimos separar los videojuegos con respecto a su género.\n",
        "\n",
        "Gracias a esto podemos hacer suposiciones para tratar de contestar nuestras preguntas objetivo. Las 3 empresas que mas ventas generaron en Norte Ámerica fueron desarrolladoras de consolas, ya que su negocio consistio en vender el equipo para correr el videojuego, y aparte cobrar pequeñas licencias por programar para sus equipos. Estas fueron: Nintendo, Sony y Microsoft (en orden descendente).\n",
        "\n",
        "Este analisis tambien nos permitio responder a la pregunta de si un videojuego es multiplataforma en que plataforma genero una mayor venta. Podemos decir que esto depende de la generación de consolas, por ejemplo en la séptima generación de consolas tu juego multiplataforma tenia mas probabilidades de tener mas ventas para una xbox 360 que para una ps3. Por lo que todavia estamos tratando de hacer un análisis por generaciones de consolas."
      ]
    }
  ]
}