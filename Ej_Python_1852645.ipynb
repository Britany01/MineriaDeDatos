{
  "nbformat": 4,
  "nbformat_minor": 0,
  "metadata": {
    "colab": {
      "name": "Ej_Python_1852645",
      "provenance": [],
      "collapsed_sections": []
    },
    "kernelspec": {
      "name": "python3",
      "display_name": "Python 3"
    },
    "language_info": {
      "name": "python"
    }
  },
  "cells": [
    {
      "cell_type": "markdown",
      "metadata": {
        "id": "PhBG2FvDdoNA"
      },
      "source": [
        "### **Ejercicios Python** "
      ]
    },
    {
      "cell_type": "markdown",
      "metadata": {
        "id": "s5RH6vrWg5rq"
      },
      "source": [
        "**Ejercicio 1:** Realiza una variable con tu matricula y realiza una secuencia de imprimir con tu nombre y tu matricula concatenados."
      ]
    },
    {
      "cell_type": "code",
      "metadata": {
        "colab": {
          "base_uri": "https://localhost:8080/"
        },
        "id": "BDVVsUL6mG8v",
        "outputId": "70209a5f-c992-4395-fe86-854c94a8c898"
      },
      "source": [
        "x= 1852645\n",
        "print(\"Britany Ovalle Salas\",x)"
      ],
      "execution_count": 25,
      "outputs": [
        {
          "output_type": "stream",
          "text": [
            "Britany Ovalle Salas 1852645\n"
          ],
          "name": "stdout"
        }
      ]
    },
    {
      "cell_type": "code",
      "metadata": {
        "colab": {
          "base_uri": "https://localhost:8080/"
        },
        "id": "y7_yZPsTdfsh",
        "outputId": "92994949-6d13-4d3d-c800-eb764b3e073d"
      },
      "source": [
        "#Ejercicio 1: Realiza una variable con tu matricula y realiza una secuencia de imprimir con tu nombre y tu matricula concatenados.\n",
        "nombre= str(input(\"Introduce tu nombre:\"))\n",
        "mat=int(input(\"Introduce tu matricula:\"))\n",
        "print(nombre,mat,sep=\" \")"
      ],
      "execution_count": 7,
      "outputs": [
        {
          "output_type": "stream",
          "text": [
            "Introduce tu nombre:Britany Ovalle Salas\n",
            "Introduce tu matricula:1852645\n",
            "Britany Ovalle Salas 1852645\n"
          ],
          "name": "stdout"
        }
      ]
    },
    {
      "cell_type": "markdown",
      "metadata": {
        "id": "ya6Jntq4ffE3"
      },
      "source": [
        "**Ejercicio 2:** Pidiendo el input del usuario pide dos números y crea una pequeña calculadora con los operadores básicos de suma, resta, multiplicación, división, y exponente."
      ]
    },
    {
      "cell_type": "code",
      "metadata": {
        "colab": {
          "base_uri": "https://localhost:8080/"
        },
        "id": "5oOE3Xw5hHQM",
        "outputId": "5ca00c3d-6186-4b28-8c45-1ed4c883df18"
      },
      "source": [
        "a=int(input(\"Introduce un número:\"))\n",
        "b=int(input(\"Introduce el segundo número:\"))\n",
        "suma= a+b\n",
        "resta= a-b\n",
        "multiplicación = a*b\n",
        "exponente= a**b\n",
        "division=round(a/b,3)\n",
        "print(\"Suma=\",suma)\n",
        "print(\"Resta=\",resta)\n",
        "print(\"Multiplicación=\",multiplicación)\n",
        "print(\"División\",a,\"/\" ,b,\"=\", division, )\n",
        "print(\"Exponenciación\", a,\"^\",b ,\"=\",1exponente)"
      ],
      "execution_count": 23,
      "outputs": [
        {
          "output_type": "stream",
          "text": [
            "Introduce un número:10\n",
            "Introduce el segundo número:2\n",
            "Suma= 12\n",
            "Resta= 8\n",
            "Multiplicación= 20\n",
            "División 10 / 2 = 5.0\n",
            "Exponenciación 10 ^ 2 = 100\n"
          ],
          "name": "stdout"
        }
      ]
    },
    {
      "cell_type": "markdown",
      "metadata": {
        "id": "8g7Hyiz1lXie"
      },
      "source": [
        "**Ejercicio 3:** Con loop while o for, realiza una lista de 10 numeros multiplos de 3, y después realiza una función de loop que sume todos los números dentro del arreglo."
      ]
    },
    {
      "cell_type": "code",
      "metadata": {
        "colab": {
          "base_uri": "https://localhost:8080/"
        },
        "id": "n_dTCeC-2B8F",
        "outputId": "e976158a-fe63-4558-bffc-556c1a0dad4e"
      },
      "source": [
        "lista = [0,0,0,0,0,0,0,0,0,0]\n",
        "for i in range(1,11):\n",
        "    lista[i-1] = i*3\n",
        "\n",
        "print(\"Lista de 10 numeros multiplos de 3:\")\n",
        "for i in range(1,11):\n",
        "    print ( lista[i-1] )\n",
        "\n",
        "print(\"Suma total:\",sum(lista))"
      ],
      "execution_count": 193,
      "outputs": [
        {
          "output_type": "stream",
          "text": [
            "Lista de 10 numeros multiplos de 3:\n",
            "3\n",
            "6\n",
            "9\n",
            "12\n",
            "15\n",
            "18\n",
            "21\n",
            "24\n",
            "27\n",
            "30\n",
            "Suma total: 165\n"
          ],
          "name": "stdout"
        }
      ]
    },
    {
      "cell_type": "markdown",
      "metadata": {
        "id": "xTdkRbc83Uyq"
      },
      "source": [
        "**Ejercicio 4**\n",
        "\n",
        "*   Con una función de if else, revisar si un número es par o es impar.\n",
        "*   Con una función de if else, revisar si un número es primo o no.\n",
        "\n",
        "ref: https://ellibrodepython.com/numeros-primos-python#:~:text=Para%20determinar%20si%20un%20n%C3%BAmero,es%20primo%20y%20devolvemos%20False%20.\n"
      ]
    },
    {
      "cell_type": "code",
      "metadata": {
        "colab": {
          "base_uri": "https://localhost:8080/"
        },
        "id": "sL8Ou41L3pqA",
        "outputId": "e58860f2-1065-4482-ebbc-e07e179b1a43"
      },
      "source": [
        "\n",
        "a=int(input(\"Introduce un número: \"))\n",
        "if a%2 ==0:\n",
        "  print(\"El número es par\")\n",
        "else:\n",
        "  print(\"El número es impar\")\n",
        "\n",
        "for i in range(2, a):\n",
        "        if a % i == 0:\n",
        "            print(\"No es primo\", i, \"es divisor\")\n",
        "            break\n",
        "        else: \n",
        "            print(\"Es primo\")\n",
        "            break"
      ],
      "execution_count": 276,
      "outputs": [
        {
          "output_type": "stream",
          "text": [
            "Introduce un número: 5\n",
            "El número es impar\n",
            "Es primo\n"
          ],
          "name": "stdout"
        }
      ]
    },
    {
      "cell_type": "markdown",
      "metadata": {
        "id": "0CGty5WI_5X1"
      },
      "source": [
        "**Ejercicio 5:** Utilizando diferentes clases en python, crea una calculadora con los operadores básicos de suma, resta, multiplicación, división, y exponente.\n",
        "\n",
        "Ref:https://www.sanfoundry.com/python-program-class-performs-basic-calculator-operations/"
      ]
    },
    {
      "cell_type": "code",
      "metadata": {
        "colab": {
          "base_uri": "https://localhost:8080/"
        },
        "id": "y0qO2NJDHUmo",
        "outputId": "6f8f8465-4cf1-4bd5-a44d-d88c193cb879"
      },
      "source": [
        "class calculadora():\n",
        "    def __init__(var,a,b):\n",
        "        var.a=float(a)\n",
        "        var.b=float(b)\n",
        "    def suma(var):\n",
        "        return var.a+var.b\n",
        "    def Resta(var):\n",
        "        return var.a-var.b\n",
        "    def Multiplicacion(var):\n",
        "        return var.a*var.b\n",
        "    def Division(var):\n",
        "        return var.a/var.b\n",
        "    def Exponente(var):\n",
        "        return var.a**var.b\n",
        "\n",
        "a=int(input(\"Introduce un número: \"))\n",
        "b=int(input(\"Introduce el segundo número: \"))\n",
        "obj= calculadora(a,b)\n",
        "opcion=1\n",
        "while opcion!=0:\n",
        "    print(\"0. Exit\")\n",
        "    print(\"1. Suma\")\n",
        "    print(\"2. Resta\")\n",
        "    print(\"3. Multiplicación\")\n",
        "    print(\"4. División\")\n",
        "    print(\"5. Exponente\")\n",
        "    opcion=int(input(\"Selecciona una opción: \"))\n",
        "    if opcion==1:\n",
        "        print(\"Suma= \",obj.suma())\n",
        "    elif opcion==2:\n",
        "        print(\"Resta= \",obj.Resta())\n",
        "    elif opcion==3:\n",
        "        print(\"Multiplicación= \",obj.Multiplicacion())\n",
        "    elif opcion==4:\n",
        "        print(\"División= \",round(obj.Division(),2))\n",
        "    elif opcion==5:\n",
        "        print(\"Exponente= \",obj.Exponente())\n",
        "    elif opcion==0:\n",
        "        print(\"Exiting!\")\n",
        "    else:\n",
        "        print(\"Opción invalida\")\n",
        " \n",
        " \n",
        "print()"
      ],
      "execution_count": 294,
      "outputs": [
        {
          "output_type": "stream",
          "text": [
            "Introduce un número: 10\n",
            "Introduce el segundo número: 5\n",
            "0. Exit\n",
            "1. Suma\n",
            "2. Resta\n",
            "3. Multiplicación\n",
            "4. División\n",
            "5. Exponente\n",
            "Selecciona una opción: 1\n",
            "Suma=  15.0\n",
            "0. Exit\n",
            "1. Suma\n",
            "2. Resta\n",
            "3. Multiplicación\n",
            "4. División\n",
            "5. Exponente\n",
            "Selecciona una opción: 0\n",
            "Exiting!\n",
            "\n"
          ],
          "name": "stdout"
        }
      ]
    },
    {
      "cell_type": "markdown",
      "metadata": {
        "id": "8IEaVunnKu_d"
      },
      "source": [
        "## **Ejercicios con estructuras básicas de python**"
      ]
    },
    {
      "cell_type": "markdown",
      "metadata": {
        "id": "-dZAEp-PK6TN"
      },
      "source": [
        "**Tuplas**\n",
        "\n",
        "\n",
        "*   Crear una variable flotante, integer, boleana y compleja e imprimir el tipo de variable que es.\n",
        "\n",
        "\n",
        "\n"
      ]
    },
    {
      "cell_type": "code",
      "metadata": {
        "colab": {
          "base_uri": "https://localhost:8080/"
        },
        "id": "aI_eHdltKhnZ",
        "outputId": "a287de4f-0a30-4b4c-9bd9-3adc4432bfbf"
      },
      "source": [
        "a=3.1415\n",
        "b=4\n",
        "c=False\n",
        "d=5j+ 3\n",
        "\n",
        "print(type(a))\n",
        "print(type(b))\n",
        "print(type(c))\n",
        "print(type(d))"
      ],
      "execution_count": 317,
      "outputs": [
        {
          "output_type": "stream",
          "text": [
            "<class 'float'>\n",
            "<class 'int'>\n",
            "<class 'bool'>\n",
            "<class 'complex'>\n"
          ],
          "name": "stdout"
        }
      ]
    },
    {
      "cell_type": "markdown",
      "metadata": {
        "id": "Zn-kqtKbMfaz"
      },
      "source": [
        "* Crear una tupla con valores enteros imprimir el primer y ultimo valor.\n"
      ]
    },
    {
      "cell_type": "code",
      "metadata": {
        "colab": {
          "base_uri": "https://localhost:8080/"
        },
        "id": "C_qjdn9yMqVv",
        "outputId": "1fa833ea-cadc-4ee6-e0bd-0f81047ac820"
      },
      "source": [
        "x= (5,4,7,8,9)\n",
        "print (\"El primer valor es:\",x[0])\n",
        "print (\"El último valor es:\", x[4])"
      ],
      "execution_count": 323,
      "outputs": [
        {
          "output_type": "stream",
          "text": [
            "El primer valor es: 5\n",
            "El último valor es: 9\n"
          ],
          "name": "stdout"
        }
      ]
    },
    {
      "cell_type": "markdown",
      "metadata": {
        "id": "Bc8EnnmINWNQ"
      },
      "source": [
        "* Añadir 3 valores de string a la tupla."
      ]
    },
    {
      "cell_type": "code",
      "metadata": {
        "colab": {
          "base_uri": "https://localhost:8080/",
          "height": 228
        },
        "id": "AqEupmGSNjrw",
        "outputId": "86ef0dd0-78b5-4218-b993-adc3d03531e3"
      },
      "source": [
        "x=(5,4,7,8,9)\n",
        "x.append(150)\n",
        "x.append(200)\n",
        "x.append(500)\n",
        "x\n",
        "#LAS TUPLAS NO SON MODIFICABLES"
      ],
      "execution_count": 337,
      "outputs": [
        {
          "output_type": "error",
          "ename": "AttributeError",
          "evalue": "ignored",
          "traceback": [
            "\u001b[0;31m---------------------------------------------------------------------------\u001b[0m",
            "\u001b[0;31mAttributeError\u001b[0m                            Traceback (most recent call last)",
            "\u001b[0;32m<ipython-input-337-39fe05bbe8aa>\u001b[0m in \u001b[0;36m<module>\u001b[0;34m()\u001b[0m\n\u001b[1;32m      1\u001b[0m \u001b[0mx\u001b[0m\u001b[0;34m=\u001b[0m\u001b[0;34m(\u001b[0m\u001b[0;36m5\u001b[0m\u001b[0;34m,\u001b[0m\u001b[0;36m4\u001b[0m\u001b[0;34m,\u001b[0m\u001b[0;36m7\u001b[0m\u001b[0;34m,\u001b[0m\u001b[0;36m8\u001b[0m\u001b[0;34m,\u001b[0m\u001b[0;36m9\u001b[0m\u001b[0;34m)\u001b[0m\u001b[0;34m\u001b[0m\u001b[0;34m\u001b[0m\u001b[0m\n\u001b[0;32m----> 2\u001b[0;31m \u001b[0mx\u001b[0m\u001b[0;34m.\u001b[0m\u001b[0mappend\u001b[0m\u001b[0;34m(\u001b[0m\u001b[0;36m150\u001b[0m\u001b[0;34m)\u001b[0m\u001b[0;34m\u001b[0m\u001b[0;34m\u001b[0m\u001b[0m\n\u001b[0m\u001b[1;32m      3\u001b[0m \u001b[0mx\u001b[0m\u001b[0;34m.\u001b[0m\u001b[0mappend\u001b[0m\u001b[0;34m(\u001b[0m\u001b[0;36m200\u001b[0m\u001b[0;34m)\u001b[0m\u001b[0;34m\u001b[0m\u001b[0;34m\u001b[0m\u001b[0m\n\u001b[1;32m      4\u001b[0m \u001b[0mx\u001b[0m\u001b[0;34m.\u001b[0m\u001b[0mappend\u001b[0m\u001b[0;34m(\u001b[0m\u001b[0;36m500\u001b[0m\u001b[0;34m)\u001b[0m\u001b[0;34m\u001b[0m\u001b[0;34m\u001b[0m\u001b[0m\n\u001b[1;32m      5\u001b[0m \u001b[0mx\u001b[0m\u001b[0;34m\u001b[0m\u001b[0;34m\u001b[0m\u001b[0m\n",
            "\u001b[0;31mAttributeError\u001b[0m: 'tuple' object has no attribute 'append'"
          ]
        }
      ]
    },
    {
      "cell_type": "markdown",
      "metadata": {
        "id": "0KGRga5NO4Bc"
      },
      "source": [
        "* Verificar si una variable existe dentro de la tupla."
      ]
    },
    {
      "cell_type": "code",
      "metadata": {
        "colab": {
          "base_uri": "https://localhost:8080/"
        },
        "id": "uR55BFBXOOOE",
        "outputId": "7e7a12ea-6a9a-407b-ab54-dae7c4d42e36"
      },
      "source": [
        "x=(5,4,7,8,9)\n",
        "5 in x"
      ],
      "execution_count": 338,
      "outputs": [
        {
          "output_type": "execute_result",
          "data": {
            "text/plain": [
              "True"
            ]
          },
          "metadata": {},
          "execution_count": 338
        }
      ]
    },
    {
      "cell_type": "markdown",
      "metadata": {
        "id": "wrRkV2hGO9qF"
      },
      "source": [
        "**Listas**"
      ]
    },
    {
      "cell_type": "markdown",
      "metadata": {
        "id": "zKsMrFGhPAUu"
      },
      "source": [
        "* Crear una lista con 40 elementos aleatorios enteros.\n"
      ]
    },
    {
      "cell_type": "code",
      "metadata": {
        "colab": {
          "base_uri": "https://localhost:8080/"
        },
        "id": "uPIaSuLNSSSw",
        "outputId": "b1e06d2a-16e1-4272-fdbc-f30a56d1f55b"
      },
      "source": [
        "import random as r\n",
        "lista = []\n",
        "for i in range(1,41):\n",
        "    lista.append(r.randint(1, 100))\n",
        "print (lista)\n",
        "len(lista)"
      ],
      "execution_count": 375,
      "outputs": [
        {
          "output_type": "stream",
          "text": [
            "[100, 5, 82, 58, 81, 91, 69, 25, 82, 51, 98, 48, 3, 4, 34, 50, 68, 46, 8, 97, 58, 29, 71, 30, 72, 27, 79, 97, 72, 83, 4, 75, 100, 83, 68, 7, 34, 90, 53, 15]\n"
          ],
          "name": "stdout"
        },
        {
          "output_type": "execute_result",
          "data": {
            "text/plain": [
              "40"
            ]
          },
          "metadata": {},
          "execution_count": 375
        }
      ]
    },
    {
      "cell_type": "markdown",
      "metadata": {
        "id": "ej82ssSqSYqN"
      },
      "source": [
        "* Con una funcion (def) crear dos listas nuevas a partir de la lista creada por numeros aleatorios, en la cual en una esten los elementos pares, y en la otra los elementos impares.\n",
        "\n",
        "* Crear dos variables con la longitud de ambas listas nuevas e imprimir las variables.\n",
        "\n",
        "* Crear dos variables con la longitud de ambas listas nuevas e imprimir las variables.\n",
        "\n",
        "* Ordenar los elementos de la lista par de mayor a menor, y los de la lista impar de menor a mayor.\n",
        "\n"
      ]
    },
    {
      "cell_type": "code",
      "metadata": {
        "colab": {
          "base_uri": "https://localhost:8080/"
        },
        "id": "XQRuOw8AWD6d",
        "outputId": "9152b00f-8d28-4a36-80fc-126e4b7c0de3"
      },
      "source": [
        "import random as r\n",
        "lista=[]\n",
        "for i in range(0,40):\n",
        "  lista.append(r.randint(1,100))\n",
        "print(\"Lista original\",lista)\n",
        "\n",
        "#Nuevas listas \n",
        "def NuevasListas(lista):\n",
        "  ListaPares=[]\n",
        "  ListaImpares=[]\n",
        "\n",
        "  for i in range(0,40):\n",
        "    if lista[i]%2==0:\n",
        "      ListaPares.append(lista[i])\n",
        "    else:\n",
        "      ListaImpares.append(lista[i])\n",
        "\n",
        "#Variables para longitudes\n",
        "  LP=len(ListaPares)\n",
        "  print(\"Elementos en la lista de pares:\",LP)\n",
        "  LI=len(ListaImpares)\n",
        "  print(\"Elementos en la lista de impares:\",LI)\n",
        "#Lista de Pares de mayor a menor\n",
        "  ListaPares.sort(reverse=True)\n",
        "  print(\"Lista de pares de mayor a menor\",ListaPares)\n",
        "#Lista de Impares de menor a mayor\n",
        "  ListaImpares.sort()\n",
        "  print(\"Lista de pares de menor a mayor\",ListaImpares)\n",
        "  \n",
        "\n",
        "print(\"Listas nuevas\")\n",
        "print(NuevasListas(lista))\n"
      ],
      "execution_count": 403,
      "outputs": [
        {
          "output_type": "stream",
          "text": [
            "Lista original [70, 16, 29, 28, 92, 99, 23, 88, 41, 84, 100, 88, 82, 99, 99, 9, 21, 12, 76, 66, 77, 23, 57, 93, 9, 60, 92, 22, 29, 82, 3, 89, 79, 84, 3, 49, 27, 86, 74, 47]\n",
            "Listas nuevas\n",
            "Elementos en la lista de pares: 19\n",
            "Elementos en la lista de impares: 21\n",
            "Lista de pares de mayor a menor [100, 92, 92, 88, 88, 86, 84, 84, 82, 82, 76, 74, 70, 66, 60, 28, 22, 16, 12]\n",
            "Lista de pares de menor a mayor [3, 3, 9, 9, 21, 23, 23, 27, 29, 29, 41, 47, 49, 57, 77, 79, 89, 93, 99, 99, 99]\n",
            "None\n"
          ],
          "name": "stdout"
        }
      ]
    },
    {
      "cell_type": "markdown",
      "metadata": {
        "id": "D688GUA5Zqdv"
      },
      "source": [
        "* Utilizar al menos cuatro de las funciones de listas en python en la lista original de 40 elementos."
      ]
    },
    {
      "cell_type": "code",
      "metadata": {
        "colab": {
          "base_uri": "https://localhost:8080/"
        },
        "id": "pIIIqZIvZv-Z",
        "outputId": "253f683d-644d-4d07-dc95-a6621f06ca7a"
      },
      "source": [
        "import random as r\n",
        "lista=[]\n",
        "for i in range(0,40):\n",
        "  lista.append(r.randint(1,100))\n",
        "print(\"Lista original\",lista)\n",
        "\n",
        "#Función reversa\n",
        "lista.reverse()\n",
        "print(\"Lista con función reversa:\",lista)\n",
        "\n",
        "#Función pop\n",
        "lista.pop()\n",
        "print(\"Lista sin el último elemento:\",lista)\n",
        "\n",
        "#Función Sort\n",
        "lista.sort()\n",
        "print(\"Lista ordenada ascendentemente:\",lista)\n",
        "\n",
        "#Función Insert\n",
        "lista.insert(41,10)\n",
        "print(\"Lista con nuevo elemento en posición 41:\",lista)"
      ],
      "execution_count": 412,
      "outputs": [
        {
          "output_type": "stream",
          "text": [
            "Lista original [99, 9, 14, 56, 53, 33, 43, 13, 81, 85, 41, 44, 89, 33, 43, 79, 16, 70, 9, 77, 72, 32, 94, 56, 41, 96, 92, 1, 90, 39, 25, 52, 19, 74, 15, 45, 93, 97, 51, 55]\n",
            "Lista con función reversa: [55, 51, 97, 93, 45, 15, 74, 19, 52, 25, 39, 90, 1, 92, 96, 41, 56, 94, 32, 72, 77, 9, 70, 16, 79, 43, 33, 89, 44, 41, 85, 81, 13, 43, 33, 53, 56, 14, 9, 99]\n",
            "Lista sin el último elemento: [55, 51, 97, 93, 45, 15, 74, 19, 52, 25, 39, 90, 1, 92, 96, 41, 56, 94, 32, 72, 77, 9, 70, 16, 79, 43, 33, 89, 44, 41, 85, 81, 13, 43, 33, 53, 56, 14, 9]\n",
            "Lista ordenada ascendentemente: [1, 9, 9, 13, 14, 15, 16, 19, 25, 32, 33, 33, 39, 41, 41, 43, 43, 44, 45, 51, 52, 53, 55, 56, 56, 70, 72, 74, 77, 79, 81, 85, 89, 90, 92, 93, 94, 96, 97]\n",
            "Lista con nuevo elemento en posición 41: [1, 9, 9, 13, 14, 15, 16, 19, 25, 32, 33, 33, 39, 41, 41, 43, 43, 44, 45, 51, 52, 53, 55, 56, 56, 70, 72, 74, 77, 79, 81, 85, 89, 90, 92, 93, 94, 96, 97, 10]\n"
          ],
          "name": "stdout"
        }
      ]
    },
    {
      "cell_type": "markdown",
      "metadata": {
        "id": "2mhM39Orc0xC"
      },
      "source": [
        "**Diccionarios**\n"
      ]
    },
    {
      "cell_type": "markdown",
      "metadata": {
        "id": "jtaAocanc4Dt"
      },
      "source": [
        "* Crear un diccionario de 6 personas que conozcas con su primer nombre y su edad.\n",
        "\n",
        "* Crear una lista con los valores de la edad y reacomodar la lista de menor a mayor valor.\n",
        "\n",
        "* Usando el diccionario y un loop, imprimir solo los nombres.\n",
        "\n",
        "* Añadir dos personas nuevas a tu diccionario, incluyendo edad."
      ]
    },
    {
      "cell_type": "code",
      "metadata": {
        "colab": {
          "base_uri": "https://localhost:8080/"
        },
        "id": "9AJPnrq4c9vF",
        "outputId": "dbfb4e44-494b-4765-e729-57dc551d7c0e"
      },
      "source": [
        "#diccionario\n",
        "dict1={'Luisa':21, 'Delfino':20, 'Milton':20, \"Victor\":20, \"Alberto\":21, \"Andrea\":20}\n",
        "print(\"Diccionario\",dict1)\n",
        "\n",
        "#lista con edades de menor a mayor\n",
        "print(\"Edades menor a mayor\")\n",
        "print(sorted(dict1.values()))\n",
        "\n",
        "#solo nombres\n",
        "print(\"imprimir solo los nombres.\")\n",
        "for key, value in dict1.items():\n",
        "  print(key)\n",
        "\n",
        "#añadir personas\n",
        "dict1['Arisbel']='25'\n",
        "dict1['Gilda']='48'\n",
        "dict1\n"
      ],
      "execution_count": 487,
      "outputs": [
        {
          "output_type": "stream",
          "text": [
            "Diccionario {'Luisa': 21, 'Delfino': 20, 'Milton': 20, 'Victor': 20, 'Alberto': 21, 'Andrea': 20}\n",
            "Edades menor a mayor\n",
            "[20, 20, 20, 20, 21, 21]\n",
            "imprimir solo los nombres.\n",
            "Luisa\n",
            "Delfino\n",
            "Milton\n",
            "Victor\n",
            "Alberto\n",
            "Andrea\n"
          ],
          "name": "stdout"
        },
        {
          "output_type": "execute_result",
          "data": {
            "text/plain": [
              "{'Alberto': 21,\n",
              " 'Andrea': 20,\n",
              " 'Arisbel': '25',\n",
              " 'Delfino': 20,\n",
              " 'Gilda': '48',\n",
              " 'Luisa': 21,\n",
              " 'Milton': 20,\n",
              " 'Victor': 20}"
            ]
          },
          "metadata": {},
          "execution_count": 487
        }
      ]
    },
    {
      "cell_type": "markdown",
      "metadata": {
        "id": "4QS4IUb_nBlB"
      },
      "source": [
        "**Sets**"
      ]
    },
    {
      "cell_type": "markdown",
      "metadata": {
        "id": "YwJDUX3-nDqy"
      },
      "source": [
        "* Crea un set con 100 numeros aleatorios enteros del 1 al 25.\n",
        "\n",
        "* Comprueba la longitud de tu set.\n",
        "\n",
        "* Crea una lista de 5 numeros aleatorios del 1 al 10 y comprueba si cada valor aparece en el set inicial."
      ]
    },
    {
      "cell_type": "code",
      "metadata": {
        "colab": {
          "base_uri": "https://localhost:8080/"
        },
        "id": "y6Tacer0nDWl",
        "outputId": "560606c6-b926-4706-fe34-ab54bdf4c28c"
      },
      "source": [
        "import random as r\n",
        "set1={1}\n",
        "for i in range(0,100):\n",
        "  set1.add(r.randint(1,25))\n",
        "print(set1)\n",
        "print(\"Longitud del set=\",len(set1))\n",
        "\n",
        "list=[]\n",
        "for i in range(0,5):\n",
        "  list.append(r.randint(1,10))\n",
        "print(list)\n",
        "\n",
        "for i in range(0,5):\n",
        "  print(list[i],\"is in set1\" ,list[i] in set1)"
      ],
      "execution_count": 521,
      "outputs": [
        {
          "output_type": "stream",
          "text": [
            "{1, 2, 3, 4, 5, 6, 7, 8, 9, 10, 11, 12, 13, 14, 15, 16, 17, 18, 19, 20, 21, 22, 23, 24, 25}\n",
            "Longitud del set= 25\n",
            "[10, 1, 7, 7, 8]\n",
            "10 is in set1 True\n",
            "1 is in set1 True\n",
            "7 is in set1 True\n",
            "7 is in set1 True\n",
            "8 is in set1 True\n"
          ],
          "name": "stdout"
        }
      ]
    }
  ]
}