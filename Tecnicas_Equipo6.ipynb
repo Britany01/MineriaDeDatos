{
  "nbformat": 4,
  "nbformat_minor": 0,
  "metadata": {
    "colab": {
      "name": "Tecnicas_Equipo6.ipynb",
      "provenance": [],
      "collapsed_sections": [],
      "include_colab_link": true
    },
    "kernelspec": {
      "name": "python3",
      "display_name": "Python 3"
    },
    "language_info": {
      "name": "python"
    }
  },
  "cells": [
    {
      "cell_type": "markdown",
      "metadata": {
        "id": "view-in-github",
        "colab_type": "text"
      },
      "source": [
        "<a href=\"https://colab.research.google.com/github/Britany01/MineriaDeDatos/blob/main/Tecnicas_Equipo6.ipynb\" target=\"_parent\"><img src=\"https://colab.research.google.com/assets/colab-badge.svg\" alt=\"Open In Colab\"/></a>"
      ]
    },
    {
      "cell_type": "markdown",
      "metadata": {
        "id": "p_cM06zfFW3j"
      },
      "source": [
        "# **Ejercicio de técnicas de mineria**\n",
        "\n",
        "**Equipo** **6**; gpo: 01, *lunes*. \n",
        "\n",
        "Integrantes:\n",
        "\n",
        "* 1794593 Gutiérrez Herrera Luisa Fernanda.\n",
        "* 1796551 Sánchez Bracho Joss Alberth\n",
        "* 1847156 Montemayor Guerra Diego Marcelo\n",
        "* 1852645 Ovalle Salas Britany\n",
        "* 1861240 Ávila Rodríguez Delfino Azael"
      ]
    },
    {
      "cell_type": "markdown",
      "metadata": {
        "id": "9sErf3qFG0Lf"
      },
      "source": [
        "Nuestra base de datos se llama *Video Game Sales* y el url de la página donde se encuentra es: *https://www.kaggle.com/gregorut/videogamesales*\n",
        "\n",
        "Lo primero que vamos a realizar para las tecnicas de mineria es limpiar nuestra base datos, para posteriormente generar bases mas resumidas para aplicar las distintas tecnicas de nuestro interes."
      ]
    },
    {
      "cell_type": "code",
      "metadata": {
        "colab": {
          "base_uri": "https://localhost:8080/",
          "height": 142
        },
        "id": "JNTcMLMvLoJ6",
        "outputId": "463f8c20-0cfb-4283-99cb-273189896070"
      },
      "source": [
        "import pandas as pd\n",
        "import numpy as np\n",
        "\n",
        "bd= pd.read_csv(\"vgsales.csv\") #Se lee y asigna la base de datos a la variable bd\n",
        "\n",
        "#Gracias a el analisis de visualizacion, eliminaremos las siguientes variables\n",
        "bdn= bd.drop(['EU_Sales','JP_Sales','Other_Sales'],axis=1) \n",
        "\n",
        "#Reemplazaremos los datos nulos por ceros para un mejor manejo de la informacion\n",
        "bdc = bdn.fillna(0) \n",
        "\n",
        "#Le cambiaremos los nombres a las columnas para una mejor interpretacion de los datos\n",
        "bd1=bdc.rename(columns = {'Rank':'Ranking','Name':'Nombre','Platform':'Plataforma', 'Year':'Año', 'Genre':'Genero',\n",
        "                     'Publisher':'Desarrolladora','NA_Sales':'Ventas_Norte_America_(MDD)', 'Global_Sales':'Ventas_Globales_(MDD)'})\n",
        "bd1.head(3)"
      ],
      "execution_count": null,
      "outputs": [
        {
          "output_type": "execute_result",
          "data": {
            "text/html": [
              "<div>\n",
              "<style scoped>\n",
              "    .dataframe tbody tr th:only-of-type {\n",
              "        vertical-align: middle;\n",
              "    }\n",
              "\n",
              "    .dataframe tbody tr th {\n",
              "        vertical-align: top;\n",
              "    }\n",
              "\n",
              "    .dataframe thead th {\n",
              "        text-align: right;\n",
              "    }\n",
              "</style>\n",
              "<table border=\"1\" class=\"dataframe\">\n",
              "  <thead>\n",
              "    <tr style=\"text-align: right;\">\n",
              "      <th></th>\n",
              "      <th>Ranking</th>\n",
              "      <th>Nombre</th>\n",
              "      <th>Plataforma</th>\n",
              "      <th>Año</th>\n",
              "      <th>Genero</th>\n",
              "      <th>Desarrolladora</th>\n",
              "      <th>Ventas_Norte_America_(MDD)</th>\n",
              "      <th>Ventas_Globales_(MDD)</th>\n",
              "    </tr>\n",
              "  </thead>\n",
              "  <tbody>\n",
              "    <tr>\n",
              "      <th>0</th>\n",
              "      <td>1</td>\n",
              "      <td>Wii Sports</td>\n",
              "      <td>Wii</td>\n",
              "      <td>2006.0</td>\n",
              "      <td>Sports</td>\n",
              "      <td>Nintendo</td>\n",
              "      <td>41.49</td>\n",
              "      <td>82.74</td>\n",
              "    </tr>\n",
              "    <tr>\n",
              "      <th>1</th>\n",
              "      <td>2</td>\n",
              "      <td>Super Mario Bros.</td>\n",
              "      <td>NES</td>\n",
              "      <td>1985.0</td>\n",
              "      <td>Platform</td>\n",
              "      <td>Nintendo</td>\n",
              "      <td>29.08</td>\n",
              "      <td>40.24</td>\n",
              "    </tr>\n",
              "    <tr>\n",
              "      <th>2</th>\n",
              "      <td>3</td>\n",
              "      <td>Mario Kart Wii</td>\n",
              "      <td>Wii</td>\n",
              "      <td>2008.0</td>\n",
              "      <td>Racing</td>\n",
              "      <td>Nintendo</td>\n",
              "      <td>15.85</td>\n",
              "      <td>35.82</td>\n",
              "    </tr>\n",
              "  </tbody>\n",
              "</table>\n",
              "</div>"
            ],
            "text/plain": [
              "   Ranking  ... Ventas_Globales_(MDD)\n",
              "0        1  ...                 82.74\n",
              "1        2  ...                 40.24\n",
              "2        3  ...                 35.82\n",
              "\n",
              "[3 rows x 8 columns]"
            ]
          },
          "metadata": {},
          "execution_count": 1
        }
      ]
    },
    {
      "cell_type": "markdown",
      "metadata": {
        "id": "hBWaWTxiGF5n"
      },
      "source": [
        "## **Regresión lineal:**"
      ]
    },
    {
      "cell_type": "markdown",
      "metadata": {
        "id": "uTB-FZTuSMJ4"
      },
      "source": [
        "> Para esta técnica de minería nos basamos de: *https://rpubs.com/Joaquin_AR/226291?fbclid=IwAR0HLj4emZiRUGTHXkgiFRru-kUwBMD3QN5xBuWCn_vkkFpRZfn_Mwkw9bM* \n",
        "\n",
        "> En esta página encontramos toda la documentaciión referente a la regresión lineal en R. Utilizamos R ya que es el lenguaje con el que nos sentimos mas cómodos trabajando con el analisis estadístico."
      ]
    },
    {
      "cell_type": "markdown",
      "metadata": {
        "id": "xfKub1x9Oaeq"
      },
      "source": [
        "Al tener la base de datos limpia procederemos a seleccionar las columnas de nuestro interés. En este caso lo que queremos comprobar es si existe algun modelo para analizar la relacion entre las ventas de videojuegos en Norteamérica con las ventas globales. Nuestra suposicion es que si puede haber algun modelo, ya que en el mapa de correlaciones nos encontramos con el dato de que la correlacion entre Ventas_Norte_America_(MDD) y Ventas_Globales_(MDD) es muy alta (de 0.9) lo que indica que estan relacionadas."
      ]
    },
    {
      "cell_type": "code",
      "metadata": {
        "id": "_04bSAQtb901",
        "colab": {
          "base_uri": "https://localhost:8080/",
          "height": 419
        },
        "outputId": "8eac83e3-daa3-4fd4-ea86-70f538aea41f"
      },
      "source": [
        "#Crear base de datos para regresion lineal\n",
        "#Buscamos evaluar la relacion entre las ventas en NA y las ventas globales de videojuegos\n",
        "\n",
        "bd_reg = bd1.iloc[:, [6,7]]\n",
        "bd_reg.to_csv (r'base_regresion.csv', index = False, header=True)\n",
        "bd_reg"
      ],
      "execution_count": null,
      "outputs": [
        {
          "output_type": "execute_result",
          "data": {
            "text/html": [
              "<div>\n",
              "<style scoped>\n",
              "    .dataframe tbody tr th:only-of-type {\n",
              "        vertical-align: middle;\n",
              "    }\n",
              "\n",
              "    .dataframe tbody tr th {\n",
              "        vertical-align: top;\n",
              "    }\n",
              "\n",
              "    .dataframe thead th {\n",
              "        text-align: right;\n",
              "    }\n",
              "</style>\n",
              "<table border=\"1\" class=\"dataframe\">\n",
              "  <thead>\n",
              "    <tr style=\"text-align: right;\">\n",
              "      <th></th>\n",
              "      <th>Ventas_Norte_America_(MDD)</th>\n",
              "      <th>Ventas_Globales_(MDD)</th>\n",
              "    </tr>\n",
              "  </thead>\n",
              "  <tbody>\n",
              "    <tr>\n",
              "      <th>0</th>\n",
              "      <td>41.49</td>\n",
              "      <td>82.74</td>\n",
              "    </tr>\n",
              "    <tr>\n",
              "      <th>1</th>\n",
              "      <td>29.08</td>\n",
              "      <td>40.24</td>\n",
              "    </tr>\n",
              "    <tr>\n",
              "      <th>2</th>\n",
              "      <td>15.85</td>\n",
              "      <td>35.82</td>\n",
              "    </tr>\n",
              "    <tr>\n",
              "      <th>3</th>\n",
              "      <td>15.75</td>\n",
              "      <td>33.00</td>\n",
              "    </tr>\n",
              "    <tr>\n",
              "      <th>4</th>\n",
              "      <td>11.27</td>\n",
              "      <td>31.37</td>\n",
              "    </tr>\n",
              "    <tr>\n",
              "      <th>...</th>\n",
              "      <td>...</td>\n",
              "      <td>...</td>\n",
              "    </tr>\n",
              "    <tr>\n",
              "      <th>16593</th>\n",
              "      <td>0.01</td>\n",
              "      <td>0.01</td>\n",
              "    </tr>\n",
              "    <tr>\n",
              "      <th>16594</th>\n",
              "      <td>0.01</td>\n",
              "      <td>0.01</td>\n",
              "    </tr>\n",
              "    <tr>\n",
              "      <th>16595</th>\n",
              "      <td>0.00</td>\n",
              "      <td>0.01</td>\n",
              "    </tr>\n",
              "    <tr>\n",
              "      <th>16596</th>\n",
              "      <td>0.00</td>\n",
              "      <td>0.01</td>\n",
              "    </tr>\n",
              "    <tr>\n",
              "      <th>16597</th>\n",
              "      <td>0.01</td>\n",
              "      <td>0.01</td>\n",
              "    </tr>\n",
              "  </tbody>\n",
              "</table>\n",
              "<p>16598 rows × 2 columns</p>\n",
              "</div>"
            ],
            "text/plain": [
              "       Ventas_Norte_America_(MDD)  Ventas_Globales_(MDD)\n",
              "0                           41.49                  82.74\n",
              "1                           29.08                  40.24\n",
              "2                           15.85                  35.82\n",
              "3                           15.75                  33.00\n",
              "4                           11.27                  31.37\n",
              "...                           ...                    ...\n",
              "16593                        0.01                   0.01\n",
              "16594                        0.01                   0.01\n",
              "16595                        0.00                   0.01\n",
              "16596                        0.00                   0.01\n",
              "16597                        0.01                   0.01\n",
              "\n",
              "[16598 rows x 2 columns]"
            ]
          },
          "metadata": {},
          "execution_count": 2
        }
      ]
    },
    {
      "cell_type": "markdown",
      "metadata": {
        "id": "yGiM_kTpQHhs"
      },
      "source": [
        "Al ya tener la base de datos con solo nuestras 2 variables de interes, podemos realizar el análisis estadístico en Rstudio."
      ]
    },
    {
      "cell_type": "code",
      "metadata": {
        "colab": {
          "base_uri": "https://localhost:8080/"
        },
        "id": "7TyXuyHNTLs8",
        "outputId": "4171c25d-9e52-4fff-a8eb-e52493a75f53"
      },
      "source": [
        "from google.colab import drive\n",
        "drive.mount('/content/drive')"
      ],
      "execution_count": null,
      "outputs": [
        {
          "output_type": "stream",
          "name": "stdout",
          "text": [
            "Mounted at /content/drive\n"
          ]
        }
      ]
    },
    {
      "cell_type": "code",
      "metadata": {
        "colab": {
          "base_uri": "https://localhost:8080/",
          "height": 131
        },
        "cellView": "form",
        "id": "reL4BY44TZkN",
        "outputId": "8c52e533-263b-44f6-eb5e-1a12a2c4107e"
      },
      "source": [
        "#@title Codigo utilizado en R\n",
        "from IPython.display import Image\n",
        "#Copiamos la ruta de acceso y la pegamos entre las comillas\n",
        "Image(\"/content/drive/MyDrive/Imagenes/Codigo_regresion.png\")"
      ],
      "execution_count": null,
      "outputs": [
        {
          "output_type": "execute_result",
          "data": {
            "image/png": "[encoded data removed]",
            "text/plain": [
              "<IPython.core.display.Image object>"
            ]
          },
          "metadata": {},
          "execution_count": 5
        }
      ]
    },
    {
      "cell_type": "code",
      "metadata": {
        "colab": {
          "base_uri": "https://localhost:8080/",
          "height": 87
        },
        "cellView": "form",
        "id": "wgQe5VFbbPE5",
        "outputId": "39e6dbe7-d7d6-4167-a3bf-09857276a191"
      },
      "source": [
        "#@title Coeficientes de la regresión\n",
        "from IPython.display import Image\n",
        "#Copiamos la ruta de acceso y la pegamos entre las comillas\n",
        "Image(\"/content/drive/MyDrive/Imagenes/Coeficientes_regresion.png\")"
      ],
      "execution_count": null,
      "outputs": [
        {
          "output_type": "execute_result",
          "data": {
            "image/png": "[encoded data removed]",
            "text/plain": [
              "<IPython.core.display.Image object>"
            ]
          },
          "metadata": {},
          "execution_count": 6
        }
      ]
    },
    {
      "cell_type": "code",
      "metadata": {
        "colab": {
          "base_uri": "https://localhost:8080/",
          "height": 356
        },
        "cellView": "form",
        "id": "aoQTHEfybTDD",
        "outputId": "9ee86017-3da7-4d8f-9932-7f6da98c0985"
      },
      "source": [
        "#@title Gráfica de la regresión\n",
        "from IPython.display import Image\n",
        "#Copiamos la ruta de acceso y la pegamos entre las comillas\n",
        "Image(\"/content/drive/MyDrive/Imagenes/Grafica_regresion.png\")"
      ],
      "execution_count": null,
      "outputs": [
        {
          "output_type": "execute_result",
          "data": {
            "image/png": "[encoded data removed]",
            "text/plain": [
              "<IPython.core.display.Image object>"
            ]
          },
          "metadata": {},
          "execution_count": 7
        }
      ]
    },
    {
      "cell_type": "code",
      "metadata": {
        "colab": {
          "base_uri": "https://localhost:8080/",
          "height": 71
        },
        "cellView": "form",
        "id": "uiRs1X-sbr1P",
        "outputId": "3a6322e4-cf09-4d35-d789-34c30f2a0aab"
      },
      "source": [
        "#@title Indicadores de la regresión\n",
        "from IPython.display import Image\n",
        "#Copiamos la ruta de acceso y la pegamos entre las comillas\n",
        "Image(\"/content/drive/MyDrive/Imagenes/Indicadores_regresion.png\")"
      ],
      "execution_count": null,
      "outputs": [
        {
          "output_type": "execute_result",
          "data": {
            "image/png": "[encoded data removed]",
            "text/plain": [
              "<IPython.core.display.Image object>"
            ]
          },
          "metadata": {},
          "execution_count": 8
        }
      ]
    },
    {
      "cell_type": "markdown",
      "metadata": {
        "id": "K3nGkapseL94"
      },
      "source": [
        "###Conclusiones\n",
        "Como **métricas de evaluación** para esta técnica utilizaremos los indicadores del *p-valor* y la *R cuadrada ajustada*.\n",
        "\n",
        "El *p-valor* es igual al 2.2e-16, lo cual es un valor muy pequeño lo que nos indica que si hay una relacion entre las variables Ventas_Norte_America_(MDD) y Ventas_Globales_(MDD) ya que es mucho menor a un alfa de 0.05. Por lo que podemos concluir que hay una relacion lineal entre estas variables con un 95% de confianza.\n",
        "\n",
        "Con la R cuadrada ajustada, lo que estamos buscando es que se acerque lo mas posible al 1, ya que es una proporción que nos indica que porcentaje de los datos es explicado por el modelo. En nuestro caso la R cuadrada ajustada es igual a 0.8856 lo que es algo bueno, ya que explica un gran numero de nuestros datos.\n",
        "\n",
        "Por lo tanto el modelo de regresión lineal con el que nos quedariamos seria con:\n",
        "\n",
        "**Ventas_Globales_(MDD) = 0.063202 + 1.791827(Ventas_Norte_America_(MDD))**\n",
        "\n",
        "Una de las áreas de oportunidad identificadas es que se puede buscar un mejor modelo, es decir, con un R cuadrada mayor al actual."
      ]
    }
  ]
}